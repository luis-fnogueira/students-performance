{
 "cells": [
  {
   "cell_type": "code",
   "execution_count": 1,
   "id": "6145d75e",
   "metadata": {
    "_cell_guid": "b1076dfc-b9ad-4769-8c92-a6c4dae69d19",
    "_uuid": "8f2839f25d086af736a60e9eeb907d3b93b6e0e5",
    "execution": {
     "iopub.execute_input": "2022-05-24T01:02:43.299267Z",
     "iopub.status.busy": "2022-05-24T01:02:43.298691Z",
     "iopub.status.idle": "2022-05-24T01:02:44.519684Z",
     "shell.execute_reply": "2022-05-24T01:02:44.518076Z"
    },
    "papermill": {
     "duration": 1.264872,
     "end_time": "2022-05-24T01:02:44.522296",
     "exception": false,
     "start_time": "2022-05-24T01:02:43.257424",
     "status": "completed"
    },
    "tags": []
   },
   "outputs": [
    {
     "name": "stdout",
     "output_type": "stream",
     "text": [
      "/kaggle/input/students-performance-in-exams/StudentsPerformance.csv\n"
     ]
    }
   ],
   "source": [
    "# This Python 3 environment comes with many helpful analytics libraries installed\n",
    "# It is defined by the kaggle/python Docker image: https://github.com/kaggle/docker-python\n",
    "# For example, here's several helpful packages to load\n",
    "\n",
    "import numpy as np # linear algebra\n",
    "import pandas as pd # data processing, CSV file I/O (e.g. pd.read_csv)\n",
    "import seaborn as sns\n",
    "import matplotlib.pyplot as plt\n",
    "\n",
    "\n",
    "plt.rcParams['figure.figsize'] = [22, 20]\n",
    "# Input data files are available in the read-only \"../input/\" directory\n",
    "# For example, running this (by clicking run or pressing Shift+Enter) will list all files under the input directory\n",
    "\n",
    "import os\n",
    "for dirname, _, filenames in os.walk('/kaggle/input'):\n",
    "    for filename in filenames:\n",
    "        print(os.path.join(dirname, filename))\n",
    "\n",
    "# You can write up to 20GB to the current directory (/kaggle/working/) that gets preserved as output when you create a version using \"Save & Run All\" \n",
    "# You can also write temporary files to /kaggle/temp/, but they won't be saved outside of the current session"
   ]
  },
  {
   "cell_type": "code",
   "execution_count": 2,
   "id": "1d36cdfe",
   "metadata": {
    "execution": {
     "iopub.execute_input": "2022-05-24T01:02:44.601661Z",
     "iopub.status.busy": "2022-05-24T01:02:44.601345Z",
     "iopub.status.idle": "2022-05-24T01:02:44.618540Z",
     "shell.execute_reply": "2022-05-24T01:02:44.617818Z"
    },
    "papermill": {
     "duration": 0.060152,
     "end_time": "2022-05-24T01:02:44.620725",
     "exception": false,
     "start_time": "2022-05-24T01:02:44.560573",
     "status": "completed"
    },
    "tags": []
   },
   "outputs": [],
   "source": [
    "df = pd.read_csv('/kaggle/input/students-performance-in-exams/StudentsPerformance.csv')"
   ]
  },
  {
   "cell_type": "markdown",
   "id": "b6e45049",
   "metadata": {
    "papermill": {
     "duration": 0.038729,
     "end_time": "2022-05-24T01:02:44.698722",
     "exception": false,
     "start_time": "2022-05-24T01:02:44.659993",
     "status": "completed"
    },
    "tags": []
   },
   "source": [
    "### First glances on the dataset"
   ]
  },
  {
   "cell_type": "code",
   "execution_count": 3,
   "id": "acd433bc",
   "metadata": {
    "execution": {
     "iopub.execute_input": "2022-05-24T01:02:44.779195Z",
     "iopub.status.busy": "2022-05-24T01:02:44.778886Z",
     "iopub.status.idle": "2022-05-24T01:02:44.803884Z",
     "shell.execute_reply": "2022-05-24T01:02:44.803086Z"
    },
    "papermill": {
     "duration": 0.068702,
     "end_time": "2022-05-24T01:02:44.806829",
     "exception": false,
     "start_time": "2022-05-24T01:02:44.738127",
     "status": "completed"
    },
    "tags": []
   },
   "outputs": [
    {
     "data": {
      "text/html": [
       "<div>\n",
       "<style scoped>\n",
       "    .dataframe tbody tr th:only-of-type {\n",
       "        vertical-align: middle;\n",
       "    }\n",
       "\n",
       "    .dataframe tbody tr th {\n",
       "        vertical-align: top;\n",
       "    }\n",
       "\n",
       "    .dataframe thead th {\n",
       "        text-align: right;\n",
       "    }\n",
       "</style>\n",
       "<table border=\"1\" class=\"dataframe\">\n",
       "  <thead>\n",
       "    <tr style=\"text-align: right;\">\n",
       "      <th></th>\n",
       "      <th>gender</th>\n",
       "      <th>race/ethnicity</th>\n",
       "      <th>parental level of education</th>\n",
       "      <th>lunch</th>\n",
       "      <th>test preparation course</th>\n",
       "      <th>math score</th>\n",
       "      <th>reading score</th>\n",
       "      <th>writing score</th>\n",
       "    </tr>\n",
       "  </thead>\n",
       "  <tbody>\n",
       "    <tr>\n",
       "      <th>0</th>\n",
       "      <td>female</td>\n",
       "      <td>group B</td>\n",
       "      <td>bachelor's degree</td>\n",
       "      <td>standard</td>\n",
       "      <td>none</td>\n",
       "      <td>72</td>\n",
       "      <td>72</td>\n",
       "      <td>74</td>\n",
       "    </tr>\n",
       "    <tr>\n",
       "      <th>1</th>\n",
       "      <td>female</td>\n",
       "      <td>group C</td>\n",
       "      <td>some college</td>\n",
       "      <td>standard</td>\n",
       "      <td>completed</td>\n",
       "      <td>69</td>\n",
       "      <td>90</td>\n",
       "      <td>88</td>\n",
       "    </tr>\n",
       "    <tr>\n",
       "      <th>2</th>\n",
       "      <td>female</td>\n",
       "      <td>group B</td>\n",
       "      <td>master's degree</td>\n",
       "      <td>standard</td>\n",
       "      <td>none</td>\n",
       "      <td>90</td>\n",
       "      <td>95</td>\n",
       "      <td>93</td>\n",
       "    </tr>\n",
       "    <tr>\n",
       "      <th>3</th>\n",
       "      <td>male</td>\n",
       "      <td>group A</td>\n",
       "      <td>associate's degree</td>\n",
       "      <td>free/reduced</td>\n",
       "      <td>none</td>\n",
       "      <td>47</td>\n",
       "      <td>57</td>\n",
       "      <td>44</td>\n",
       "    </tr>\n",
       "    <tr>\n",
       "      <th>4</th>\n",
       "      <td>male</td>\n",
       "      <td>group C</td>\n",
       "      <td>some college</td>\n",
       "      <td>standard</td>\n",
       "      <td>none</td>\n",
       "      <td>76</td>\n",
       "      <td>78</td>\n",
       "      <td>75</td>\n",
       "    </tr>\n",
       "  </tbody>\n",
       "</table>\n",
       "</div>"
      ],
      "text/plain": [
       "   gender race/ethnicity parental level of education         lunch  \\\n",
       "0  female        group B           bachelor's degree      standard   \n",
       "1  female        group C                some college      standard   \n",
       "2  female        group B             master's degree      standard   \n",
       "3    male        group A          associate's degree  free/reduced   \n",
       "4    male        group C                some college      standard   \n",
       "\n",
       "  test preparation course  math score  reading score  writing score  \n",
       "0                    none          72             72             74  \n",
       "1               completed          69             90             88  \n",
       "2                    none          90             95             93  \n",
       "3                    none          47             57             44  \n",
       "4                    none          76             78             75  "
      ]
     },
     "execution_count": 3,
     "metadata": {},
     "output_type": "execute_result"
    }
   ],
   "source": [
    "df.head()"
   ]
  },
  {
   "cell_type": "code",
   "execution_count": 4,
   "id": "28603a13",
   "metadata": {
    "execution": {
     "iopub.execute_input": "2022-05-24T01:02:44.885716Z",
     "iopub.status.busy": "2022-05-24T01:02:44.885198Z",
     "iopub.status.idle": "2022-05-24T01:02:44.892990Z",
     "shell.execute_reply": "2022-05-24T01:02:44.892173Z"
    },
    "papermill": {
     "duration": 0.049374,
     "end_time": "2022-05-24T01:02:44.894811",
     "exception": false,
     "start_time": "2022-05-24T01:02:44.845437",
     "status": "completed"
    },
    "tags": []
   },
   "outputs": [
    {
     "data": {
      "text/plain": [
       "gender                         object\n",
       "race/ethnicity                 object\n",
       "parental level of education    object\n",
       "lunch                          object\n",
       "test preparation course        object\n",
       "math score                      int64\n",
       "reading score                   int64\n",
       "writing score                   int64\n",
       "dtype: object"
      ]
     },
     "execution_count": 4,
     "metadata": {},
     "output_type": "execute_result"
    }
   ],
   "source": [
    "df.dtypes"
   ]
  },
  {
   "cell_type": "code",
   "execution_count": 5,
   "id": "91b03ac5",
   "metadata": {
    "execution": {
     "iopub.execute_input": "2022-05-24T01:02:44.978084Z",
     "iopub.status.busy": "2022-05-24T01:02:44.977291Z",
     "iopub.status.idle": "2022-05-24T01:02:45.009465Z",
     "shell.execute_reply": "2022-05-24T01:02:45.008947Z"
    },
    "papermill": {
     "duration": 0.076991,
     "end_time": "2022-05-24T01:02:45.012032",
     "exception": false,
     "start_time": "2022-05-24T01:02:44.935041",
     "status": "completed"
    },
    "tags": []
   },
   "outputs": [
    {
     "data": {
      "text/html": [
       "<div>\n",
       "<style scoped>\n",
       "    .dataframe tbody tr th:only-of-type {\n",
       "        vertical-align: middle;\n",
       "    }\n",
       "\n",
       "    .dataframe tbody tr th {\n",
       "        vertical-align: top;\n",
       "    }\n",
       "\n",
       "    .dataframe thead th {\n",
       "        text-align: right;\n",
       "    }\n",
       "</style>\n",
       "<table border=\"1\" class=\"dataframe\">\n",
       "  <thead>\n",
       "    <tr style=\"text-align: right;\">\n",
       "      <th></th>\n",
       "      <th>math score</th>\n",
       "      <th>reading score</th>\n",
       "      <th>writing score</th>\n",
       "    </tr>\n",
       "  </thead>\n",
       "  <tbody>\n",
       "    <tr>\n",
       "      <th>count</th>\n",
       "      <td>1000.00000</td>\n",
       "      <td>1000.000000</td>\n",
       "      <td>1000.000000</td>\n",
       "    </tr>\n",
       "    <tr>\n",
       "      <th>mean</th>\n",
       "      <td>66.08900</td>\n",
       "      <td>69.169000</td>\n",
       "      <td>68.054000</td>\n",
       "    </tr>\n",
       "    <tr>\n",
       "      <th>std</th>\n",
       "      <td>15.16308</td>\n",
       "      <td>14.600192</td>\n",
       "      <td>15.195657</td>\n",
       "    </tr>\n",
       "    <tr>\n",
       "      <th>min</th>\n",
       "      <td>0.00000</td>\n",
       "      <td>17.000000</td>\n",
       "      <td>10.000000</td>\n",
       "    </tr>\n",
       "    <tr>\n",
       "      <th>25%</th>\n",
       "      <td>57.00000</td>\n",
       "      <td>59.000000</td>\n",
       "      <td>57.750000</td>\n",
       "    </tr>\n",
       "    <tr>\n",
       "      <th>50%</th>\n",
       "      <td>66.00000</td>\n",
       "      <td>70.000000</td>\n",
       "      <td>69.000000</td>\n",
       "    </tr>\n",
       "    <tr>\n",
       "      <th>75%</th>\n",
       "      <td>77.00000</td>\n",
       "      <td>79.000000</td>\n",
       "      <td>79.000000</td>\n",
       "    </tr>\n",
       "    <tr>\n",
       "      <th>max</th>\n",
       "      <td>100.00000</td>\n",
       "      <td>100.000000</td>\n",
       "      <td>100.000000</td>\n",
       "    </tr>\n",
       "  </tbody>\n",
       "</table>\n",
       "</div>"
      ],
      "text/plain": [
       "       math score  reading score  writing score\n",
       "count  1000.00000    1000.000000    1000.000000\n",
       "mean     66.08900      69.169000      68.054000\n",
       "std      15.16308      14.600192      15.195657\n",
       "min       0.00000      17.000000      10.000000\n",
       "25%      57.00000      59.000000      57.750000\n",
       "50%      66.00000      70.000000      69.000000\n",
       "75%      77.00000      79.000000      79.000000\n",
       "max     100.00000     100.000000     100.000000"
      ]
     },
     "execution_count": 5,
     "metadata": {},
     "output_type": "execute_result"
    }
   ],
   "source": [
    "df.describe()"
   ]
  },
  {
   "cell_type": "code",
   "execution_count": 6,
   "id": "584c5c1d",
   "metadata": {
    "execution": {
     "iopub.execute_input": "2022-05-24T01:02:45.099675Z",
     "iopub.status.busy": "2022-05-24T01:02:45.098775Z",
     "iopub.status.idle": "2022-05-24T01:02:45.106562Z",
     "shell.execute_reply": "2022-05-24T01:02:45.105831Z"
    },
    "papermill": {
     "duration": 0.051982,
     "end_time": "2022-05-24T01:02:45.109346",
     "exception": false,
     "start_time": "2022-05-24T01:02:45.057364",
     "status": "completed"
    },
    "tags": []
   },
   "outputs": [
    {
     "data": {
      "text/plain": [
       "gender                         0\n",
       "race/ethnicity                 0\n",
       "parental level of education    0\n",
       "lunch                          0\n",
       "test preparation course        0\n",
       "math score                     0\n",
       "reading score                  0\n",
       "writing score                  0\n",
       "dtype: int64"
      ]
     },
     "execution_count": 6,
     "metadata": {},
     "output_type": "execute_result"
    }
   ],
   "source": [
    "# Identifying if the dataset has null values\n",
    "\n",
    "df.isnull().sum()\n",
    "\n",
    "# Looks like our dataset has all rows duly filled."
   ]
  },
  {
   "cell_type": "markdown",
   "id": "c65e3f5c",
   "metadata": {
    "papermill": {
     "duration": 0.040569,
     "end_time": "2022-05-24T01:02:45.190722",
     "exception": false,
     "start_time": "2022-05-24T01:02:45.150153",
     "status": "completed"
    },
    "tags": []
   },
   "source": [
    "# Distribution of the grades"
   ]
  },
  {
   "cell_type": "code",
   "execution_count": 7,
   "id": "d4ae2a49",
   "metadata": {
    "execution": {
     "iopub.execute_input": "2022-05-24T01:02:45.275594Z",
     "iopub.status.busy": "2022-05-24T01:02:45.274815Z",
     "iopub.status.idle": "2022-05-24T01:02:45.439226Z",
     "shell.execute_reply": "2022-05-24T01:02:45.438448Z"
    },
    "papermill": {
     "duration": 0.208382,
     "end_time": "2022-05-24T01:02:45.441479",
     "exception": false,
     "start_time": "2022-05-24T01:02:45.233097",
     "status": "completed"
    },
    "tags": []
   },
   "outputs": [
    {
     "data": {
      "text/plain": [
       "<AxesSubplot:ylabel='math score'>"
      ]
     },
     "execution_count": 7,
     "metadata": {},
     "output_type": "execute_result"
    },
    {
     "data": {
      "image/png": "[encoded data removed]",
      "text/plain": [
       "<Figure size 216x360 with 1 Axes>"
      ]
     },
     "metadata": {},
     "output_type": "display_data"
    }
   ],
   "source": [
    "#Distribution for math score\n",
    "\n",
    "sns.set_theme(style=\"ticks\", palette=\"pastel\")\n",
    "\n",
    "sns.set(rc={\"figure.figsize\":(3, 5)}) #width=3, #height=5\n",
    "\n",
    "sns.boxplot(y=\"math score\",\n",
    "            palette=[\"m\", \"g\"],\n",
    "            data=df)\n",
    "\n"
   ]
  },
  {
   "cell_type": "code",
   "execution_count": 8,
   "id": "2941cbd9",
   "metadata": {
    "execution": {
     "iopub.execute_input": "2022-05-24T01:02:45.527941Z",
     "iopub.status.busy": "2022-05-24T01:02:45.526898Z",
     "iopub.status.idle": "2022-05-24T01:02:45.759276Z",
     "shell.execute_reply": "2022-05-24T01:02:45.758189Z"
    },
    "papermill": {
     "duration": 0.277494,
     "end_time": "2022-05-24T01:02:45.761688",
     "exception": false,
     "start_time": "2022-05-24T01:02:45.484194",
     "status": "completed"
    },
    "tags": []
   },
   "outputs": [
    {
     "data": {
      "text/plain": [
       "(array([  2.,   5.,  26., 102., 266., 304., 216.,  79.]),\n",
       " array([  0. ,  12.5,  25. ,  37.5,  50. ,  62.5,  75. ,  87.5, 100. ]),\n",
       " <BarContainer object of 8 artists>)"
      ]
     },
     "execution_count": 8,
     "metadata": {},
     "output_type": "execute_result"
    },
    {
     "data": {
      "image/png": "[encoded data removed]",
      "text/plain": [
       "<Figure size 216x360 with 1 Axes>"
      ]
     },
     "metadata": {},
     "output_type": "display_data"
    }
   ],
   "source": [
    "fig, ax = plt.subplots()\n",
    "\n",
    "ax.hist(df['math score'], bins=8, linewidth=0.5, edgecolor=\"white\")"
   ]
  },
  {
   "cell_type": "code",
   "execution_count": 9,
   "id": "457369f6",
   "metadata": {
    "execution": {
     "iopub.execute_input": "2022-05-24T01:02:45.850473Z",
     "iopub.status.busy": "2022-05-24T01:02:45.849990Z",
     "iopub.status.idle": "2022-05-24T01:02:45.976902Z",
     "shell.execute_reply": "2022-05-24T01:02:45.975847Z"
    },
    "papermill": {
     "duration": 0.174238,
     "end_time": "2022-05-24T01:02:45.979345",
     "exception": false,
     "start_time": "2022-05-24T01:02:45.805107",
     "status": "completed"
    },
    "tags": []
   },
   "outputs": [
    {
     "data": {
      "text/plain": [
       "<AxesSubplot:ylabel='reading score'>"
      ]
     },
     "execution_count": 9,
     "metadata": {},
     "output_type": "execute_result"
    },
    {
     "data": {
      "image/png": "[encoded data removed]",
      "text/plain": [
       "<Figure size 216x360 with 1 Axes>"
      ]
     },
     "metadata": {},
     "output_type": "display_data"
    }
   ],
   "source": [
    "# Distribution for reading score \n",
    "\n",
    "\n",
    "sns.set_theme(style=\"ticks\", palette=\"pastel\")\n",
    "\n",
    "sns.set(rc={\"figure.figsize\":(3, 5)}) #width=3, #height=5\n",
    "\n",
    "sns.boxplot(y=\"reading score\",\n",
    "            palette=[\"m\", \"g\"],\n",
    "            data=df)\n"
   ]
  },
  {
   "cell_type": "code",
   "execution_count": 10,
   "id": "5308b208",
   "metadata": {
    "execution": {
     "iopub.execute_input": "2022-05-24T01:02:46.049410Z",
     "iopub.status.busy": "2022-05-24T01:02:46.048912Z",
     "iopub.status.idle": "2022-05-24T01:02:46.273777Z",
     "shell.execute_reply": "2022-05-24T01:02:46.272920Z"
    },
    "papermill": {
     "duration": 0.260352,
     "end_time": "2022-05-24T01:02:46.275500",
     "exception": false,
     "start_time": "2022-05-24T01:02:46.015148",
     "status": "completed"
    },
    "tags": []
   },
   "outputs": [
    {
     "data": {
      "text/plain": [
       "(array([  5.,  13.,  62., 157., 235., 279., 170.,  79.]),\n",
       " array([ 17.   ,  27.375,  37.75 ,  48.125,  58.5  ,  68.875,  79.25 ,\n",
       "         89.625, 100.   ]),\n",
       " <BarContainer object of 8 artists>)"
      ]
     },
     "execution_count": 10,
     "metadata": {},
     "output_type": "execute_result"
    },
    {
     "data": {
      "image/png": "[encoded data removed]",
      "text/plain": [
       "<Figure size 216x360 with 1 Axes>"
      ]
     },
     "metadata": {},
     "output_type": "display_data"
    }
   ],
   "source": [
    "fig, ax = plt.subplots()\n",
    "\n",
    "ax.hist(df['reading score'], bins=8, linewidth=0.5, edgecolor=\"white\")"
   ]
  },
  {
   "cell_type": "code",
   "execution_count": 11,
   "id": "b4923e5d",
   "metadata": {
    "execution": {
     "iopub.execute_input": "2022-05-24T01:02:46.350989Z",
     "iopub.status.busy": "2022-05-24T01:02:46.350669Z",
     "iopub.status.idle": "2022-05-24T01:02:46.479764Z",
     "shell.execute_reply": "2022-05-24T01:02:46.479151Z"
    },
    "papermill": {
     "duration": 0.173984,
     "end_time": "2022-05-24T01:02:46.481535",
     "exception": false,
     "start_time": "2022-05-24T01:02:46.307551",
     "status": "completed"
    },
    "tags": []
   },
   "outputs": [
    {
     "data": {
      "text/plain": [
       "<AxesSubplot:ylabel='writing score'>"
      ]
     },
     "execution_count": 11,
     "metadata": {},
     "output_type": "execute_result"
    },
    {
     "data": {
      "image/png": "[encoded data removed]",
      "text/plain": [
       "<Figure size 216x360 with 1 Axes>"
      ]
     },
     "metadata": {},
     "output_type": "display_data"
    }
   ],
   "source": [
    "# Distribution for writing score \n",
    "\n",
    "\n",
    "sns.set_theme(style=\"ticks\", palette=\"pastel\")\n",
    "\n",
    "sns.set(rc={\"figure.figsize\":(3, 5)}) #width=3, #height=5\n",
    "\n",
    "sns.boxplot(y=\"writing score\",\n",
    "            palette=[\"m\", \"g\"],\n",
    "            data=df)\n"
   ]
  },
  {
   "cell_type": "code",
   "execution_count": 12,
   "id": "bfb75b0e",
   "metadata": {
    "execution": {
     "iopub.execute_input": "2022-05-24T01:02:46.550770Z",
     "iopub.status.busy": "2022-05-24T01:02:46.550300Z",
     "iopub.status.idle": "2022-05-24T01:02:46.781740Z",
     "shell.execute_reply": "2022-05-24T01:02:46.780857Z"
    },
    "papermill": {
     "duration": 0.266651,
     "end_time": "2022-05-24T01:02:46.784448",
     "exception": false,
     "start_time": "2022-05-24T01:02:46.517797",
     "status": "completed"
    },
    "tags": []
   },
   "outputs": [
    {
     "data": {
      "text/plain": [
       "(array([  3.,   9.,  50., 141., 229., 289., 192.,  87.]),\n",
       " array([ 10.  ,  21.25,  32.5 ,  43.75,  55.  ,  66.25,  77.5 ,  88.75,\n",
       "        100.  ]),\n",
       " <BarContainer object of 8 artists>)"
      ]
     },
     "execution_count": 12,
     "metadata": {},
     "output_type": "execute_result"
    },
    {
     "data": {
      "image/png": "[encoded data removed]",
      "text/plain": [
       "<Figure size 216x360 with 1 Axes>"
      ]
     },
     "metadata": {},
     "output_type": "display_data"
    }
   ],
   "source": [
    "fig, ax = plt.subplots()\n",
    "\n",
    "ax.hist(df['writing score'], bins=8, linewidth=0.5, edgecolor=\"white\")"
   ]
  },
  {
   "cell_type": "markdown",
   "id": "f83ad191",
   "metadata": {
    "papermill": {
     "duration": 0.048382,
     "end_time": "2022-05-24T01:02:46.882491",
     "exception": false,
     "start_time": "2022-05-24T01:02:46.834109",
     "status": "completed"
    },
    "tags": []
   },
   "source": [
    "With the df.describe() method and the bloxplots here plotted one can see that the distribution is very similar to each matter."
   ]
  },
  {
   "cell_type": "markdown",
   "id": "7882480a",
   "metadata": {
    "papermill": {
     "duration": 0.048944,
     "end_time": "2022-05-24T01:02:46.980650",
     "exception": false,
     "start_time": "2022-05-24T01:02:46.931706",
     "status": "completed"
    },
    "tags": []
   },
   "source": [
    "# Correlation"
   ]
  },
  {
   "cell_type": "code",
   "execution_count": 13,
   "id": "e37459da",
   "metadata": {
    "execution": {
     "iopub.execute_input": "2022-05-24T01:02:47.080618Z",
     "iopub.status.busy": "2022-05-24T01:02:47.080218Z",
     "iopub.status.idle": "2022-05-24T01:02:47.171279Z",
     "shell.execute_reply": "2022-05-24T01:02:47.170498Z"
    },
    "papermill": {
     "duration": 0.144071,
     "end_time": "2022-05-24T01:02:47.173836",
     "exception": false,
     "start_time": "2022-05-24T01:02:47.029765",
     "status": "completed"
    },
    "tags": []
   },
   "outputs": [
    {
     "data": {
      "text/html": [
       "<style type=\"text/css\">\n",
       "#T_96a72_row0_col0, #T_96a72_row1_col1, #T_96a72_row2_col2 {\n",
       "  background-color: #08306b;\n",
       "  color: #f1f1f1;\n",
       "}\n",
       "#T_96a72_row0_col1, #T_96a72_row0_col2, #T_96a72_row2_col0 {\n",
       "  background-color: #f7fbff;\n",
       "  color: #000000;\n",
       "}\n",
       "#T_96a72_row1_col0 {\n",
       "  background-color: #e8f1fa;\n",
       "  color: #000000;\n",
       "}\n",
       "#T_96a72_row1_col2 {\n",
       "  background-color: #1c6bb0;\n",
       "  color: #f1f1f1;\n",
       "}\n",
       "#T_96a72_row2_col1 {\n",
       "  background-color: #2070b4;\n",
       "  color: #f1f1f1;\n",
       "}\n",
       "</style>\n",
       "<table id=\"T_96a72_\">\n",
       "  <thead>\n",
       "    <tr>\n",
       "      <th class=\"blank level0\" >&nbsp;</th>\n",
       "      <th class=\"col_heading level0 col0\" >math score</th>\n",
       "      <th class=\"col_heading level0 col1\" >reading score</th>\n",
       "      <th class=\"col_heading level0 col2\" >writing score</th>\n",
       "    </tr>\n",
       "  </thead>\n",
       "  <tbody>\n",
       "    <tr>\n",
       "      <th id=\"T_96a72_level0_row0\" class=\"row_heading level0 row0\" >math score</th>\n",
       "      <td id=\"T_96a72_row0_col0\" class=\"data row0 col0\" >1.000000</td>\n",
       "      <td id=\"T_96a72_row0_col1\" class=\"data row0 col1\" >0.817580</td>\n",
       "      <td id=\"T_96a72_row0_col2\" class=\"data row0 col2\" >0.802642</td>\n",
       "    </tr>\n",
       "    <tr>\n",
       "      <th id=\"T_96a72_level0_row1\" class=\"row_heading level0 row1\" >reading score</th>\n",
       "      <td id=\"T_96a72_row1_col0\" class=\"data row1 col0\" >0.817580</td>\n",
       "      <td id=\"T_96a72_row1_col1\" class=\"data row1 col1\" >1.000000</td>\n",
       "      <td id=\"T_96a72_row1_col2\" class=\"data row1 col2\" >0.954598</td>\n",
       "    </tr>\n",
       "    <tr>\n",
       "      <th id=\"T_96a72_level0_row2\" class=\"row_heading level0 row2\" >writing score</th>\n",
       "      <td id=\"T_96a72_row2_col0\" class=\"data row2 col0\" >0.802642</td>\n",
       "      <td id=\"T_96a72_row2_col1\" class=\"data row2 col1\" >0.954598</td>\n",
       "      <td id=\"T_96a72_row2_col2\" class=\"data row2 col2\" >1.000000</td>\n",
       "    </tr>\n",
       "  </tbody>\n",
       "</table>\n"
      ],
      "text/plain": [
       "<pandas.io.formats.style.Styler at 0x7f245f1c1690>"
      ]
     },
     "execution_count": 13,
     "metadata": {},
     "output_type": "execute_result"
    }
   ],
   "source": [
    "df.corr().style.background_gradient(cmap=\"Blues\")"
   ]
  },
  {
   "cell_type": "markdown",
   "id": "3080ee13",
   "metadata": {
    "papermill": {
     "duration": 0.049371,
     "end_time": "2022-05-24T01:02:47.272657",
     "exception": false,
     "start_time": "2022-05-24T01:02:47.223286",
     "status": "completed"
    },
    "tags": []
   },
   "source": [
    "We can see that there is a good positive correlation among the variables."
   ]
  },
  {
   "cell_type": "markdown",
   "id": "3094fef6",
   "metadata": {
    "papermill": {
     "duration": 0.048605,
     "end_time": "2022-05-24T01:02:47.370106",
     "exception": false,
     "start_time": "2022-05-24T01:02:47.321501",
     "status": "completed"
    },
    "tags": []
   },
   "source": [
    "# How's the proportion between men and women?"
   ]
  },
  {
   "cell_type": "code",
   "execution_count": 14,
   "id": "efe93ec0",
   "metadata": {
    "execution": {
     "iopub.execute_input": "2022-05-24T01:02:47.469693Z",
     "iopub.status.busy": "2022-05-24T01:02:47.469248Z",
     "iopub.status.idle": "2022-05-24T01:02:47.477037Z",
     "shell.execute_reply": "2022-05-24T01:02:47.476135Z"
    },
    "papermill": {
     "duration": 0.059984,
     "end_time": "2022-05-24T01:02:47.479045",
     "exception": false,
     "start_time": "2022-05-24T01:02:47.419061",
     "status": "completed"
    },
    "tags": []
   },
   "outputs": [
    {
     "data": {
      "text/plain": [
       "female    0.518\n",
       "male      0.482\n",
       "Name: gender, dtype: float64"
      ]
     },
     "execution_count": 14,
     "metadata": {},
     "output_type": "execute_result"
    }
   ],
   "source": [
    "df['gender'].value_counts('gender')"
   ]
  },
  {
   "cell_type": "code",
   "execution_count": 15,
   "id": "40a8a5d4",
   "metadata": {
    "execution": {
     "iopub.execute_input": "2022-05-24T01:02:47.579669Z",
     "iopub.status.busy": "2022-05-24T01:02:47.579212Z",
     "iopub.status.idle": "2022-05-24T01:02:47.587861Z",
     "shell.execute_reply": "2022-05-24T01:02:47.586490Z"
    },
    "papermill": {
     "duration": 0.062434,
     "end_time": "2022-05-24T01:02:47.590853",
     "exception": false,
     "start_time": "2022-05-24T01:02:47.528419",
     "status": "completed"
    },
    "tags": []
   },
   "outputs": [
    {
     "name": "stdout",
     "output_type": "stream",
     "text": [
      "{'female': 518, 'male': 482}\n"
     ]
    }
   ],
   "source": [
    "# Inserting the values above in a python dictionary.\n",
    "proportion = {}\n",
    "\n",
    "proportion['female'] = df[df['gender']=='female']['gender'].count()\n",
    "proportion['male'] = df[df['gender']=='male']['gender'].count()\n",
    "\n",
    "print(proportion)"
   ]
  },
  {
   "cell_type": "code",
   "execution_count": 16,
   "id": "1074f2d4",
   "metadata": {
    "execution": {
     "iopub.execute_input": "2022-05-24T01:02:47.692706Z",
     "iopub.status.busy": "2022-05-24T01:02:47.692413Z",
     "iopub.status.idle": "2022-05-24T01:02:47.801420Z",
     "shell.execute_reply": "2022-05-24T01:02:47.800781Z"
    },
    "papermill": {
     "duration": 0.162438,
     "end_time": "2022-05-24T01:02:47.803559",
     "exception": false,
     "start_time": "2022-05-24T01:02:47.641121",
     "status": "completed"
    },
    "tags": []
   },
   "outputs": [
    {
     "data": {
      "image/png": "[encoded data removed]",
      "text/plain": [
       "<Figure size 216x360 with 1 Axes>"
      ]
     },
     "metadata": {},
     "output_type": "display_data"
    }
   ],
   "source": [
    "# Data to plot\n",
    "labels = []\n",
    "sizes = []\n",
    "\n",
    "for x, y in proportion.items():\n",
    "    labels.append(x)\n",
    "    sizes.append(y)\n",
    "    \n",
    "labels = [x.upper() for x in labels]    \n",
    "colors_list = ['blue','cyan']    \n",
    "    \n",
    "# Plot\n",
    "plt.pie(sizes, labels=labels, colors=colors_list, autopct='%.1f%%')\n",
    "plt.title(\"Distribution of sex\")\n",
    "\n",
    "\n",
    "plt.show()"
   ]
  },
  {
   "cell_type": "markdown",
   "id": "6eae462c",
   "metadata": {
    "papermill": {
     "duration": 0.055602,
     "end_time": "2022-05-24T01:02:47.920034",
     "exception": false,
     "start_time": "2022-05-24T01:02:47.864432",
     "status": "completed"
    },
    "tags": []
   },
   "source": [
    "One can see that the proportion is very equal, almost 50/50."
   ]
  },
  {
   "cell_type": "markdown",
   "id": "8ec9cce7",
   "metadata": {
    "papermill": {
     "duration": 0.049842,
     "end_time": "2022-05-24T01:02:48.020470",
     "exception": false,
     "start_time": "2022-05-24T01:02:47.970628",
     "status": "completed"
    },
    "tags": []
   },
   "source": [
    "# How's the proportion of parental level of education?"
   ]
  },
  {
   "cell_type": "code",
   "execution_count": 17,
   "id": "65a4c1cb",
   "metadata": {
    "execution": {
     "iopub.execute_input": "2022-05-24T01:02:48.122429Z",
     "iopub.status.busy": "2022-05-24T01:02:48.122157Z",
     "iopub.status.idle": "2022-05-24T01:02:48.130881Z",
     "shell.execute_reply": "2022-05-24T01:02:48.130069Z"
    },
    "papermill": {
     "duration": 0.062079,
     "end_time": "2022-05-24T01:02:48.132843",
     "exception": false,
     "start_time": "2022-05-24T01:02:48.070764",
     "status": "completed"
    },
    "tags": []
   },
   "outputs": [
    {
     "data": {
      "text/plain": [
       "some college          0.226\n",
       "associate's degree    0.222\n",
       "high school           0.196\n",
       "some high school      0.179\n",
       "bachelor's degree     0.118\n",
       "master's degree       0.059\n",
       "Name: parental level of education, dtype: float64"
      ]
     },
     "execution_count": 17,
     "metadata": {},
     "output_type": "execute_result"
    }
   ],
   "source": [
    "df['parental level of education'].value_counts('parental level of education')"
   ]
  },
  {
   "cell_type": "markdown",
   "id": "991f0028",
   "metadata": {
    "papermill": {
     "duration": 0.052843,
     "end_time": "2022-05-24T01:02:48.239550",
     "exception": false,
     "start_time": "2022-05-24T01:02:48.186707",
     "status": "completed"
    },
    "tags": []
   },
   "source": [
    "# Which kind of lunch do the students prefer?"
   ]
  },
  {
   "cell_type": "code",
   "execution_count": 18,
   "id": "3e267206",
   "metadata": {
    "execution": {
     "iopub.execute_input": "2022-05-24T01:02:48.346452Z",
     "iopub.status.busy": "2022-05-24T01:02:48.346183Z",
     "iopub.status.idle": "2022-05-24T01:02:48.354534Z",
     "shell.execute_reply": "2022-05-24T01:02:48.353934Z"
    },
    "papermill": {
     "duration": 0.063603,
     "end_time": "2022-05-24T01:02:48.356411",
     "exception": false,
     "start_time": "2022-05-24T01:02:48.292808",
     "status": "completed"
    },
    "tags": []
   },
   "outputs": [
    {
     "data": {
      "text/plain": [
       "standard        0.645\n",
       "free/reduced    0.355\n",
       "Name: lunch, dtype: float64"
      ]
     },
     "execution_count": 18,
     "metadata": {},
     "output_type": "execute_result"
    }
   ],
   "source": [
    "df['lunch'].value_counts('lunch')"
   ]
  },
  {
   "cell_type": "markdown",
   "id": "2f5e05f2",
   "metadata": {
    "papermill": {
     "duration": 0.051611,
     "end_time": "2022-05-24T01:02:48.460037",
     "exception": false,
     "start_time": "2022-05-24T01:02:48.408426",
     "status": "completed"
    },
    "tags": []
   },
   "source": [
    "One can see that most students opt for standart lunch."
   ]
  },
  {
   "cell_type": "markdown",
   "id": "0635f4e2",
   "metadata": {
    "papermill": {
     "duration": 0.051567,
     "end_time": "2022-05-24T01:02:48.563754",
     "exception": false,
     "start_time": "2022-05-24T01:02:48.512187",
     "status": "completed"
    },
    "tags": []
   },
   "source": [
    "# Race"
   ]
  },
  {
   "cell_type": "code",
   "execution_count": 19,
   "id": "8b9b6a32",
   "metadata": {
    "execution": {
     "iopub.execute_input": "2022-05-24T01:02:48.669773Z",
     "iopub.status.busy": "2022-05-24T01:02:48.669326Z",
     "iopub.status.idle": "2022-05-24T01:02:48.676592Z",
     "shell.execute_reply": "2022-05-24T01:02:48.676065Z"
    },
    "papermill": {
     "duration": 0.062805,
     "end_time": "2022-05-24T01:02:48.678408",
     "exception": false,
     "start_time": "2022-05-24T01:02:48.615603",
     "status": "completed"
    },
    "tags": []
   },
   "outputs": [
    {
     "data": {
      "text/plain": [
       "group C    0.319\n",
       "group D    0.262\n",
       "group B    0.190\n",
       "group E    0.140\n",
       "group A    0.089\n",
       "Name: race/ethnicity, dtype: float64"
      ]
     },
     "execution_count": 19,
     "metadata": {},
     "output_type": "execute_result"
    }
   ],
   "source": [
    "df['race/ethnicity'].value_counts('race/ethnicity')"
   ]
  },
  {
   "cell_type": "code",
   "execution_count": 20,
   "id": "ef7c1532",
   "metadata": {
    "execution": {
     "iopub.execute_input": "2022-05-24T01:02:48.784392Z",
     "iopub.status.busy": "2022-05-24T01:02:48.783923Z",
     "iopub.status.idle": "2022-05-24T01:02:48.796630Z",
     "shell.execute_reply": "2022-05-24T01:02:48.795779Z"
    },
    "papermill": {
     "duration": 0.068827,
     "end_time": "2022-05-24T01:02:48.799267",
     "exception": false,
     "start_time": "2022-05-24T01:02:48.730440",
     "status": "completed"
    },
    "tags": []
   },
   "outputs": [
    {
     "name": "stdout",
     "output_type": "stream",
     "text": [
      "{'group_A': 89, 'group_B': 190, 'group_C': 319, 'group_D': 262, 'group_E': 140}\n"
     ]
    }
   ],
   "source": [
    "# Inserting the values above in a python dictionary.\n",
    "race = {}\n",
    "\n",
    "race['group_A'] = df[df['race/ethnicity']=='group A']['race/ethnicity'].count()\n",
    "race['group_B'] = df[df['race/ethnicity']=='group B']['race/ethnicity'].count()\n",
    "race['group_C'] = df[df['race/ethnicity']=='group C']['race/ethnicity'].count()\n",
    "race['group_D'] = df[df['race/ethnicity']=='group D']['race/ethnicity'].count()\n",
    "race['group_E'] = df[df['race/ethnicity']=='group E']['race/ethnicity'].count()\n",
    "\n",
    "print(race)"
   ]
  },
  {
   "cell_type": "code",
   "execution_count": 21,
   "id": "b52fe690",
   "metadata": {
    "execution": {
     "iopub.execute_input": "2022-05-24T01:02:48.906744Z",
     "iopub.status.busy": "2022-05-24T01:02:48.906287Z",
     "iopub.status.idle": "2022-05-24T01:02:49.067657Z",
     "shell.execute_reply": "2022-05-24T01:02:49.067060Z"
    },
    "papermill": {
     "duration": 0.217647,
     "end_time": "2022-05-24T01:02:49.069931",
     "exception": false,
     "start_time": "2022-05-24T01:02:48.852284",
     "status": "completed"
    },
    "tags": []
   },
   "outputs": [
    {
     "data": {
      "image/png": "[encoded data removed]",
      "text/plain": [
       "<Figure size 720x360 with 1 Axes>"
      ]
     },
     "metadata": {},
     "output_type": "display_data"
    }
   ],
   "source": [
    "races = list(race.keys())\n",
    "values = list(race.values())\n",
    "  \n",
    "fig = plt.figure(figsize = (10, 5))\n",
    " \n",
    "# creating the bar plot\n",
    "plt.bar(races, values, color ='maroon',\n",
    "        width = 0.4)\n",
    " \n",
    "plt.xlabel(\"\")\n",
    "plt.ylabel(\"No. of students enrolled\")\n",
    "plt.title(\"Race/Ethnicity of students\")\n",
    "plt.show()"
   ]
  }
 ],
 "metadata": {
  "kernelspec": {
   "display_name": "Python 3",
   "language": "python",
   "name": "python3"
  },
  "language_info": {
   "codemirror_mode": {
    "name": "ipython",
    "version": 3
   },
   "file_extension": ".py",
   "mimetype": "text/x-python",
   "name": "python",
   "nbconvert_exporter": "python",
   "pygments_lexer": "ipython3",
   "version": "3.7.12"
  },
  "papermill": {
   "default_parameters": {},
   "duration": 18.757112,
   "end_time": "2022-05-24T01:02:50.147478",
   "environment_variables": {},
   "exception": null,
   "input_path": "__notebook__.ipynb",
   "output_path": "__notebook__.ipynb",
   "parameters": {},
   "start_time": "2022-05-24T01:02:31.390366",
   "version": "2.3.4"
  }
 },
 "nbformat": 4,
 "nbformat_minor": 5
}
