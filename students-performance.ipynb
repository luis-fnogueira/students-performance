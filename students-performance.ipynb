{
 "cells": [
  {
   "cell_type": "code",
   "execution_count": 1,
   "id": "a517374e",
   "metadata": {
    "_cell_guid": "b1076dfc-b9ad-4769-8c92-a6c4dae69d19",
    "_uuid": "8f2839f25d086af736a60e9eeb907d3b93b6e0e5",
    "execution": {
     "iopub.execute_input": "2022-05-18T23:44:08.545343Z",
     "iopub.status.busy": "2022-05-18T23:44:08.544709Z",
     "iopub.status.idle": "2022-05-18T23:44:09.749388Z",
     "shell.execute_reply": "2022-05-18T23:44:09.748652Z"
    },
    "papermill": {
     "duration": 1.237896,
     "end_time": "2022-05-18T23:44:09.752499",
     "exception": false,
     "start_time": "2022-05-18T23:44:08.514603",
     "status": "completed"
    },
    "tags": []
   },
   "outputs": [
    {
     "name": "stdout",
     "output_type": "stream",
     "text": [
      "/kaggle/input/students-performance-in-exams/StudentsPerformance.csv\n"
     ]
    }
   ],
   "source": [
    "# This Python 3 environment comes with many helpful analytics libraries installed\n",
    "# It is defined by the kaggle/python Docker image: https://github.com/kaggle/docker-python\n",
    "# For example, here's several helpful packages to load\n",
    "\n",
    "import numpy as np # linear algebra\n",
    "import pandas as pd # data processing, CSV file I/O (e.g. pd.read_csv)\n",
    "import seaborn as sns\n",
    "import matplotlib.pyplot as plt\n",
    "\n",
    "\n",
    "plt.rcParams['figure.figsize'] = [22, 20]\n",
    "# Input data files are available in the read-only \"../input/\" directory\n",
    "# For example, running this (by clicking run or pressing Shift+Enter) will list all files under the input directory\n",
    "\n",
    "import os\n",
    "for dirname, _, filenames in os.walk('/kaggle/input'):\n",
    "    for filename in filenames:\n",
    "        print(os.path.join(dirname, filename))\n",
    "\n",
    "# You can write up to 20GB to the current directory (/kaggle/working/) that gets preserved as output when you create a version using \"Save & Run All\" \n",
    "# You can also write temporary files to /kaggle/temp/, but they won't be saved outside of the current session"
   ]
  },
  {
   "cell_type": "code",
   "execution_count": 2,
   "id": "f27b20e4",
   "metadata": {
    "execution": {
     "iopub.execute_input": "2022-05-18T23:44:09.809421Z",
     "iopub.status.busy": "2022-05-18T23:44:09.808661Z",
     "iopub.status.idle": "2022-05-18T23:44:09.825379Z",
     "shell.execute_reply": "2022-05-18T23:44:09.824632Z"
    },
    "papermill": {
     "duration": 0.046058,
     "end_time": "2022-05-18T23:44:09.827696",
     "exception": false,
     "start_time": "2022-05-18T23:44:09.781638",
     "status": "completed"
    },
    "tags": []
   },
   "outputs": [],
   "source": [
    "df = pd.read_csv('/kaggle/input/students-performance-in-exams/StudentsPerformance.csv')"
   ]
  },
  {
   "cell_type": "markdown",
   "id": "52bf3953",
   "metadata": {
    "papermill": {
     "duration": 0.025292,
     "end_time": "2022-05-18T23:44:09.878629",
     "exception": false,
     "start_time": "2022-05-18T23:44:09.853337",
     "status": "completed"
    },
    "tags": []
   },
   "source": [
    "### First glances on the dataset"
   ]
  },
  {
   "cell_type": "code",
   "execution_count": 3,
   "id": "4ccf6c85",
   "metadata": {
    "execution": {
     "iopub.execute_input": "2022-05-18T23:44:09.932441Z",
     "iopub.status.busy": "2022-05-18T23:44:09.931827Z",
     "iopub.status.idle": "2022-05-18T23:44:09.953970Z",
     "shell.execute_reply": "2022-05-18T23:44:09.953233Z"
    },
    "papermill": {
     "duration": 0.051423,
     "end_time": "2022-05-18T23:44:09.955920",
     "exception": false,
     "start_time": "2022-05-18T23:44:09.904497",
     "status": "completed"
    },
    "tags": []
   },
   "outputs": [
    {
     "data": {
      "text/html": [
       "<div>\n",
       "<style scoped>\n",
       "    .dataframe tbody tr th:only-of-type {\n",
       "        vertical-align: middle;\n",
       "    }\n",
       "\n",
       "    .dataframe tbody tr th {\n",
       "        vertical-align: top;\n",
       "    }\n",
       "\n",
       "    .dataframe thead th {\n",
       "        text-align: right;\n",
       "    }\n",
       "</style>\n",
       "<table border=\"1\" class=\"dataframe\">\n",
       "  <thead>\n",
       "    <tr style=\"text-align: right;\">\n",
       "      <th></th>\n",
       "      <th>gender</th>\n",
       "      <th>race/ethnicity</th>\n",
       "      <th>parental level of education</th>\n",
       "      <th>lunch</th>\n",
       "      <th>test preparation course</th>\n",
       "      <th>math score</th>\n",
       "      <th>reading score</th>\n",
       "      <th>writing score</th>\n",
       "    </tr>\n",
       "  </thead>\n",
       "  <tbody>\n",
       "    <tr>\n",
       "      <th>0</th>\n",
       "      <td>female</td>\n",
       "      <td>group B</td>\n",
       "      <td>bachelor's degree</td>\n",
       "      <td>standard</td>\n",
       "      <td>none</td>\n",
       "      <td>72</td>\n",
       "      <td>72</td>\n",
       "      <td>74</td>\n",
       "    </tr>\n",
       "    <tr>\n",
       "      <th>1</th>\n",
       "      <td>female</td>\n",
       "      <td>group C</td>\n",
       "      <td>some college</td>\n",
       "      <td>standard</td>\n",
       "      <td>completed</td>\n",
       "      <td>69</td>\n",
       "      <td>90</td>\n",
       "      <td>88</td>\n",
       "    </tr>\n",
       "    <tr>\n",
       "      <th>2</th>\n",
       "      <td>female</td>\n",
       "      <td>group B</td>\n",
       "      <td>master's degree</td>\n",
       "      <td>standard</td>\n",
       "      <td>none</td>\n",
       "      <td>90</td>\n",
       "      <td>95</td>\n",
       "      <td>93</td>\n",
       "    </tr>\n",
       "    <tr>\n",
       "      <th>3</th>\n",
       "      <td>male</td>\n",
       "      <td>group A</td>\n",
       "      <td>associate's degree</td>\n",
       "      <td>free/reduced</td>\n",
       "      <td>none</td>\n",
       "      <td>47</td>\n",
       "      <td>57</td>\n",
       "      <td>44</td>\n",
       "    </tr>\n",
       "    <tr>\n",
       "      <th>4</th>\n",
       "      <td>male</td>\n",
       "      <td>group C</td>\n",
       "      <td>some college</td>\n",
       "      <td>standard</td>\n",
       "      <td>none</td>\n",
       "      <td>76</td>\n",
       "      <td>78</td>\n",
       "      <td>75</td>\n",
       "    </tr>\n",
       "  </tbody>\n",
       "</table>\n",
       "</div>"
      ],
      "text/plain": [
       "   gender race/ethnicity parental level of education         lunch  \\\n",
       "0  female        group B           bachelor's degree      standard   \n",
       "1  female        group C                some college      standard   \n",
       "2  female        group B             master's degree      standard   \n",
       "3    male        group A          associate's degree  free/reduced   \n",
       "4    male        group C                some college      standard   \n",
       "\n",
       "  test preparation course  math score  reading score  writing score  \n",
       "0                    none          72             72             74  \n",
       "1               completed          69             90             88  \n",
       "2                    none          90             95             93  \n",
       "3                    none          47             57             44  \n",
       "4                    none          76             78             75  "
      ]
     },
     "execution_count": 3,
     "metadata": {},
     "output_type": "execute_result"
    }
   ],
   "source": [
    "df.head()"
   ]
  },
  {
   "cell_type": "code",
   "execution_count": 4,
   "id": "72e6229a",
   "metadata": {
    "execution": {
     "iopub.execute_input": "2022-05-18T23:44:10.009912Z",
     "iopub.status.busy": "2022-05-18T23:44:10.009362Z",
     "iopub.status.idle": "2022-05-18T23:44:10.015919Z",
     "shell.execute_reply": "2022-05-18T23:44:10.015255Z"
    },
    "papermill": {
     "duration": 0.035972,
     "end_time": "2022-05-18T23:44:10.017824",
     "exception": false,
     "start_time": "2022-05-18T23:44:09.981852",
     "status": "completed"
    },
    "tags": []
   },
   "outputs": [
    {
     "data": {
      "text/plain": [
       "gender                         object\n",
       "race/ethnicity                 object\n",
       "parental level of education    object\n",
       "lunch                          object\n",
       "test preparation course        object\n",
       "math score                      int64\n",
       "reading score                   int64\n",
       "writing score                   int64\n",
       "dtype: object"
      ]
     },
     "execution_count": 4,
     "metadata": {},
     "output_type": "execute_result"
    }
   ],
   "source": [
    "df.dtypes"
   ]
  },
  {
   "cell_type": "code",
   "execution_count": 5,
   "id": "8365a00a",
   "metadata": {
    "execution": {
     "iopub.execute_input": "2022-05-18T23:44:10.073394Z",
     "iopub.status.busy": "2022-05-18T23:44:10.072830Z",
     "iopub.status.idle": "2022-05-18T23:44:10.105585Z",
     "shell.execute_reply": "2022-05-18T23:44:10.104828Z"
    },
    "papermill": {
     "duration": 0.063312,
     "end_time": "2022-05-18T23:44:10.108293",
     "exception": false,
     "start_time": "2022-05-18T23:44:10.044981",
     "status": "completed"
    },
    "tags": []
   },
   "outputs": [
    {
     "data": {
      "text/html": [
       "<div>\n",
       "<style scoped>\n",
       "    .dataframe tbody tr th:only-of-type {\n",
       "        vertical-align: middle;\n",
       "    }\n",
       "\n",
       "    .dataframe tbody tr th {\n",
       "        vertical-align: top;\n",
       "    }\n",
       "\n",
       "    .dataframe thead th {\n",
       "        text-align: right;\n",
       "    }\n",
       "</style>\n",
       "<table border=\"1\" class=\"dataframe\">\n",
       "  <thead>\n",
       "    <tr style=\"text-align: right;\">\n",
       "      <th></th>\n",
       "      <th>math score</th>\n",
       "      <th>reading score</th>\n",
       "      <th>writing score</th>\n",
       "    </tr>\n",
       "  </thead>\n",
       "  <tbody>\n",
       "    <tr>\n",
       "      <th>count</th>\n",
       "      <td>1000.00000</td>\n",
       "      <td>1000.000000</td>\n",
       "      <td>1000.000000</td>\n",
       "    </tr>\n",
       "    <tr>\n",
       "      <th>mean</th>\n",
       "      <td>66.08900</td>\n",
       "      <td>69.169000</td>\n",
       "      <td>68.054000</td>\n",
       "    </tr>\n",
       "    <tr>\n",
       "      <th>std</th>\n",
       "      <td>15.16308</td>\n",
       "      <td>14.600192</td>\n",
       "      <td>15.195657</td>\n",
       "    </tr>\n",
       "    <tr>\n",
       "      <th>min</th>\n",
       "      <td>0.00000</td>\n",
       "      <td>17.000000</td>\n",
       "      <td>10.000000</td>\n",
       "    </tr>\n",
       "    <tr>\n",
       "      <th>25%</th>\n",
       "      <td>57.00000</td>\n",
       "      <td>59.000000</td>\n",
       "      <td>57.750000</td>\n",
       "    </tr>\n",
       "    <tr>\n",
       "      <th>50%</th>\n",
       "      <td>66.00000</td>\n",
       "      <td>70.000000</td>\n",
       "      <td>69.000000</td>\n",
       "    </tr>\n",
       "    <tr>\n",
       "      <th>75%</th>\n",
       "      <td>77.00000</td>\n",
       "      <td>79.000000</td>\n",
       "      <td>79.000000</td>\n",
       "    </tr>\n",
       "    <tr>\n",
       "      <th>max</th>\n",
       "      <td>100.00000</td>\n",
       "      <td>100.000000</td>\n",
       "      <td>100.000000</td>\n",
       "    </tr>\n",
       "  </tbody>\n",
       "</table>\n",
       "</div>"
      ],
      "text/plain": [
       "       math score  reading score  writing score\n",
       "count  1000.00000    1000.000000    1000.000000\n",
       "mean     66.08900      69.169000      68.054000\n",
       "std      15.16308      14.600192      15.195657\n",
       "min       0.00000      17.000000      10.000000\n",
       "25%      57.00000      59.000000      57.750000\n",
       "50%      66.00000      70.000000      69.000000\n",
       "75%      77.00000      79.000000      79.000000\n",
       "max     100.00000     100.000000     100.000000"
      ]
     },
     "execution_count": 5,
     "metadata": {},
     "output_type": "execute_result"
    }
   ],
   "source": [
    "df.describe()"
   ]
  },
  {
   "cell_type": "code",
   "execution_count": 6,
   "id": "45a8696c",
   "metadata": {
    "execution": {
     "iopub.execute_input": "2022-05-18T23:44:10.168214Z",
     "iopub.status.busy": "2022-05-18T23:44:10.167349Z",
     "iopub.status.idle": "2022-05-18T23:44:10.177750Z",
     "shell.execute_reply": "2022-05-18T23:44:10.176875Z"
    },
    "papermill": {
     "duration": 0.041833,
     "end_time": "2022-05-18T23:44:10.180227",
     "exception": false,
     "start_time": "2022-05-18T23:44:10.138394",
     "status": "completed"
    },
    "tags": []
   },
   "outputs": [
    {
     "data": {
      "text/plain": [
       "gender                         0\n",
       "race/ethnicity                 0\n",
       "parental level of education    0\n",
       "lunch                          0\n",
       "test preparation course        0\n",
       "math score                     0\n",
       "reading score                  0\n",
       "writing score                  0\n",
       "dtype: int64"
      ]
     },
     "execution_count": 6,
     "metadata": {},
     "output_type": "execute_result"
    }
   ],
   "source": [
    "# Identifying if the dataset has null values\n",
    "\n",
    "df.isnull().sum()\n",
    "\n",
    "# Looks like our dataset has all rows duly filled."
   ]
  },
  {
   "cell_type": "markdown",
   "id": "4fd17bff",
   "metadata": {
    "papermill": {
     "duration": 0.02777,
     "end_time": "2022-05-18T23:44:10.237213",
     "exception": false,
     "start_time": "2022-05-18T23:44:10.209443",
     "status": "completed"
    },
    "tags": []
   },
   "source": [
    "# Distribution of the grades"
   ]
  },
  {
   "cell_type": "code",
   "execution_count": 7,
   "id": "04a86bfe",
   "metadata": {
    "execution": {
     "iopub.execute_input": "2022-05-18T23:44:10.296355Z",
     "iopub.status.busy": "2022-05-18T23:44:10.295692Z",
     "iopub.status.idle": "2022-05-18T23:44:10.467252Z",
     "shell.execute_reply": "2022-05-18T23:44:10.466314Z"
    },
    "papermill": {
     "duration": 0.205101,
     "end_time": "2022-05-18T23:44:10.470907",
     "exception": false,
     "start_time": "2022-05-18T23:44:10.265806",
     "status": "completed"
    },
    "tags": []
   },
   "outputs": [
    {
     "data": {
      "text/plain": [
       "<AxesSubplot:ylabel='math score'>"
      ]
     },
     "execution_count": 7,
     "metadata": {},
     "output_type": "execute_result"
    },
    {
     "data": {
      "image/png": "[encoded data removed]",
      "text/plain": [
       "<Figure size 216x360 with 1 Axes>"
      ]
     },
     "metadata": {},
     "output_type": "display_data"
    }
   ],
   "source": [
    "#Distribution for math score\n",
    "\n",
    "sns.set_theme(style=\"ticks\", palette=\"pastel\")\n",
    "\n",
    "sns.set(rc={\"figure.figsize\":(3, 5)}) #width=3, #height=5\n",
    "\n",
    "sns.boxplot(y=\"math score\",\n",
    "            palette=[\"m\", \"g\"],\n",
    "            data=df)\n",
    "\n"
   ]
  },
  {
   "cell_type": "code",
   "execution_count": 8,
   "id": "539d0729",
   "metadata": {
    "execution": {
     "iopub.execute_input": "2022-05-18T23:44:10.530755Z",
     "iopub.status.busy": "2022-05-18T23:44:10.530162Z",
     "iopub.status.idle": "2022-05-18T23:44:10.785152Z",
     "shell.execute_reply": "2022-05-18T23:44:10.784299Z"
    },
    "papermill": {
     "duration": 0.287024,
     "end_time": "2022-05-18T23:44:10.787364",
     "exception": false,
     "start_time": "2022-05-18T23:44:10.500340",
     "status": "completed"
    },
    "tags": []
   },
   "outputs": [
    {
     "data": {
      "text/plain": [
       "(array([  2.,   5.,  26., 102., 266., 304., 216.,  79.]),\n",
       " array([  0. ,  12.5,  25. ,  37.5,  50. ,  62.5,  75. ,  87.5, 100. ]),\n",
       " <BarContainer object of 8 artists>)"
      ]
     },
     "execution_count": 8,
     "metadata": {},
     "output_type": "execute_result"
    },
    {
     "data": {
      "image/png": "[encoded data removed]",
      "text/plain": [
       "<Figure size 216x360 with 1 Axes>"
      ]
     },
     "metadata": {},
     "output_type": "display_data"
    }
   ],
   "source": [
    "fig, ax = plt.subplots()\n",
    "\n",
    "ax.hist(df['math score'], bins=8, linewidth=0.5, edgecolor=\"white\")"
   ]
  },
  {
   "cell_type": "code",
   "execution_count": 9,
   "id": "bef3bc08",
   "metadata": {
    "execution": {
     "iopub.execute_input": "2022-05-18T23:44:10.848989Z",
     "iopub.status.busy": "2022-05-18T23:44:10.848392Z",
     "iopub.status.idle": "2022-05-18T23:44:11.014554Z",
     "shell.execute_reply": "2022-05-18T23:44:11.013635Z"
    },
    "papermill": {
     "duration": 0.200204,
     "end_time": "2022-05-18T23:44:11.017070",
     "exception": false,
     "start_time": "2022-05-18T23:44:10.816866",
     "status": "completed"
    },
    "tags": []
   },
   "outputs": [
    {
     "data": {
      "text/plain": [
       "<AxesSubplot:ylabel='reading score'>"
      ]
     },
     "execution_count": 9,
     "metadata": {},
     "output_type": "execute_result"
    },
    {
     "data": {
      "image/png": "[encoded data removed]",
      "text/plain": [
       "<Figure size 216x360 with 1 Axes>"
      ]
     },
     "metadata": {},
     "output_type": "display_data"
    }
   ],
   "source": [
    "# Distribution for reading score \n",
    "\n",
    "\n",
    "sns.set_theme(style=\"ticks\", palette=\"pastel\")\n",
    "\n",
    "sns.set(rc={\"figure.figsize\":(3, 5)}) #width=3, #height=5\n",
    "\n",
    "sns.boxplot(y=\"reading score\",\n",
    "            palette=[\"m\", \"g\"],\n",
    "            data=df)\n"
   ]
  },
  {
   "cell_type": "code",
   "execution_count": 10,
   "id": "354df554",
   "metadata": {
    "execution": {
     "iopub.execute_input": "2022-05-18T23:44:11.083218Z",
     "iopub.status.busy": "2022-05-18T23:44:11.082633Z",
     "iopub.status.idle": "2022-05-18T23:44:11.340867Z",
     "shell.execute_reply": "2022-05-18T23:44:11.339998Z"
    },
    "papermill": {
     "duration": 0.294538,
     "end_time": "2022-05-18T23:44:11.343248",
     "exception": false,
     "start_time": "2022-05-18T23:44:11.048710",
     "status": "completed"
    },
    "tags": []
   },
   "outputs": [
    {
     "data": {
      "text/plain": [
       "(array([  5.,  13.,  62., 157., 235., 279., 170.,  79.]),\n",
       " array([ 17.   ,  27.375,  37.75 ,  48.125,  58.5  ,  68.875,  79.25 ,\n",
       "         89.625, 100.   ]),\n",
       " <BarContainer object of 8 artists>)"
      ]
     },
     "execution_count": 10,
     "metadata": {},
     "output_type": "execute_result"
    },
    {
     "data": {
      "image/png": "[encoded data removed]",
      "text/plain": [
       "<Figure size 216x360 with 1 Axes>"
      ]
     },
     "metadata": {},
     "output_type": "display_data"
    }
   ],
   "source": [
    "fig, ax = plt.subplots()\n",
    "\n",
    "ax.hist(df['reading score'], bins=8, linewidth=0.5, edgecolor=\"white\")"
   ]
  },
  {
   "cell_type": "code",
   "execution_count": 11,
   "id": "42fcdd89",
   "metadata": {
    "execution": {
     "iopub.execute_input": "2022-05-18T23:44:11.409183Z",
     "iopub.status.busy": "2022-05-18T23:44:11.408861Z",
     "iopub.status.idle": "2022-05-18T23:44:11.567792Z",
     "shell.execute_reply": "2022-05-18T23:44:11.567066Z"
    },
    "papermill": {
     "duration": 0.194214,
     "end_time": "2022-05-18T23:44:11.569823",
     "exception": false,
     "start_time": "2022-05-18T23:44:11.375609",
     "status": "completed"
    },
    "tags": []
   },
   "outputs": [
    {
     "data": {
      "text/plain": [
       "<AxesSubplot:ylabel='writing score'>"
      ]
     },
     "execution_count": 11,
     "metadata": {},
     "output_type": "execute_result"
    },
    {
     "data": {
      "image/png": "[encoded data removed]",
      "text/plain": [
       "<Figure size 216x360 with 1 Axes>"
      ]
     },
     "metadata": {},
     "output_type": "display_data"
    }
   ],
   "source": [
    "# Distribution for writing score \n",
    "\n",
    "\n",
    "sns.set_theme(style=\"ticks\", palette=\"pastel\")\n",
    "\n",
    "sns.set(rc={\"figure.figsize\":(3, 5)}) #width=3, #height=5\n",
    "\n",
    "sns.boxplot(y=\"writing score\",\n",
    "            palette=[\"m\", \"g\"],\n",
    "            data=df)\n"
   ]
  },
  {
   "cell_type": "code",
   "execution_count": 12,
   "id": "5ee79301",
   "metadata": {
    "execution": {
     "iopub.execute_input": "2022-05-18T23:44:11.639682Z",
     "iopub.status.busy": "2022-05-18T23:44:11.639086Z",
     "iopub.status.idle": "2022-05-18T23:44:11.893896Z",
     "shell.execute_reply": "2022-05-18T23:44:11.892968Z"
    },
    "papermill": {
     "duration": 0.292112,
     "end_time": "2022-05-18T23:44:11.896297",
     "exception": false,
     "start_time": "2022-05-18T23:44:11.604185",
     "status": "completed"
    },
    "tags": []
   },
   "outputs": [
    {
     "data": {
      "text/plain": [
       "(array([  3.,   9.,  50., 141., 229., 289., 192.,  87.]),\n",
       " array([ 10.  ,  21.25,  32.5 ,  43.75,  55.  ,  66.25,  77.5 ,  88.75,\n",
       "        100.  ]),\n",
       " <BarContainer object of 8 artists>)"
      ]
     },
     "execution_count": 12,
     "metadata": {},
     "output_type": "execute_result"
    },
    {
     "data": {
      "image/png": "[encoded data removed]",
      "text/plain": [
       "<Figure size 216x360 with 1 Axes>"
      ]
     },
     "metadata": {},
     "output_type": "display_data"
    }
   ],
   "source": [
    "fig, ax = plt.subplots()\n",
    "\n",
    "ax.hist(df['writing score'], bins=8, linewidth=0.5, edgecolor=\"white\")"
   ]
  },
  {
   "cell_type": "markdown",
   "id": "d95b20c7",
   "metadata": {
    "papermill": {
     "duration": 0.035286,
     "end_time": "2022-05-18T23:44:11.966252",
     "exception": false,
     "start_time": "2022-05-18T23:44:11.930966",
     "status": "completed"
    },
    "tags": []
   },
   "source": [
    "With the df.describe() method and the bloxplots here plotted one can see that the distribution is very similar to each matter."
   ]
  },
  {
   "cell_type": "markdown",
   "id": "b4358e41",
   "metadata": {
    "papermill": {
     "duration": 0.035631,
     "end_time": "2022-05-18T23:44:12.036879",
     "exception": false,
     "start_time": "2022-05-18T23:44:12.001248",
     "status": "completed"
    },
    "tags": []
   },
   "source": [
    "# Correlation"
   ]
  },
  {
   "cell_type": "code",
   "execution_count": 13,
   "id": "92b0e789",
   "metadata": {
    "execution": {
     "iopub.execute_input": "2022-05-18T23:44:12.108798Z",
     "iopub.status.busy": "2022-05-18T23:44:12.108474Z",
     "iopub.status.idle": "2022-05-18T23:44:12.193882Z",
     "shell.execute_reply": "2022-05-18T23:44:12.192894Z"
    },
    "papermill": {
     "duration": 0.124497,
     "end_time": "2022-05-18T23:44:12.196204",
     "exception": false,
     "start_time": "2022-05-18T23:44:12.071707",
     "status": "completed"
    },
    "tags": []
   },
   "outputs": [
    {
     "data": {
      "text/html": [
       "<style type=\"text/css\">\n",
       "#T_a0b70_row0_col0, #T_a0b70_row1_col1, #T_a0b70_row2_col2 {\n",
       "  background-color: #08306b;\n",
       "  color: #f1f1f1;\n",
       "}\n",
       "#T_a0b70_row0_col1, #T_a0b70_row0_col2, #T_a0b70_row2_col0 {\n",
       "  background-color: #f7fbff;\n",
       "  color: #000000;\n",
       "}\n",
       "#T_a0b70_row1_col0 {\n",
       "  background-color: #e8f1fa;\n",
       "  color: #000000;\n",
       "}\n",
       "#T_a0b70_row1_col2 {\n",
       "  background-color: #1c6bb0;\n",
       "  color: #f1f1f1;\n",
       "}\n",
       "#T_a0b70_row2_col1 {\n",
       "  background-color: #2070b4;\n",
       "  color: #f1f1f1;\n",
       "}\n",
       "</style>\n",
       "<table id=\"T_a0b70_\">\n",
       "  <thead>\n",
       "    <tr>\n",
       "      <th class=\"blank level0\" >&nbsp;</th>\n",
       "      <th class=\"col_heading level0 col0\" >math score</th>\n",
       "      <th class=\"col_heading level0 col1\" >reading score</th>\n",
       "      <th class=\"col_heading level0 col2\" >writing score</th>\n",
       "    </tr>\n",
       "  </thead>\n",
       "  <tbody>\n",
       "    <tr>\n",
       "      <th id=\"T_a0b70_level0_row0\" class=\"row_heading level0 row0\" >math score</th>\n",
       "      <td id=\"T_a0b70_row0_col0\" class=\"data row0 col0\" >1.000000</td>\n",
       "      <td id=\"T_a0b70_row0_col1\" class=\"data row0 col1\" >0.817580</td>\n",
       "      <td id=\"T_a0b70_row0_col2\" class=\"data row0 col2\" >0.802642</td>\n",
       "    </tr>\n",
       "    <tr>\n",
       "      <th id=\"T_a0b70_level0_row1\" class=\"row_heading level0 row1\" >reading score</th>\n",
       "      <td id=\"T_a0b70_row1_col0\" class=\"data row1 col0\" >0.817580</td>\n",
       "      <td id=\"T_a0b70_row1_col1\" class=\"data row1 col1\" >1.000000</td>\n",
       "      <td id=\"T_a0b70_row1_col2\" class=\"data row1 col2\" >0.954598</td>\n",
       "    </tr>\n",
       "    <tr>\n",
       "      <th id=\"T_a0b70_level0_row2\" class=\"row_heading level0 row2\" >writing score</th>\n",
       "      <td id=\"T_a0b70_row2_col0\" class=\"data row2 col0\" >0.802642</td>\n",
       "      <td id=\"T_a0b70_row2_col1\" class=\"data row2 col1\" >0.954598</td>\n",
       "      <td id=\"T_a0b70_row2_col2\" class=\"data row2 col2\" >1.000000</td>\n",
       "    </tr>\n",
       "  </tbody>\n",
       "</table>\n"
      ],
      "text/plain": [
       "<pandas.io.formats.style.Styler at 0x7f6d823d9ad0>"
      ]
     },
     "execution_count": 13,
     "metadata": {},
     "output_type": "execute_result"
    }
   ],
   "source": [
    "df.corr().style.background_gradient(cmap=\"Blues\")"
   ]
  },
  {
   "cell_type": "markdown",
   "id": "3a16e335",
   "metadata": {
    "papermill": {
     "duration": 0.034486,
     "end_time": "2022-05-18T23:44:12.265837",
     "exception": false,
     "start_time": "2022-05-18T23:44:12.231351",
     "status": "completed"
    },
    "tags": []
   },
   "source": [
    "We can see that there is a good positive correlation among the variables."
   ]
  },
  {
   "cell_type": "markdown",
   "id": "1878fef6",
   "metadata": {
    "papermill": {
     "duration": 0.035788,
     "end_time": "2022-05-18T23:44:12.336387",
     "exception": false,
     "start_time": "2022-05-18T23:44:12.300599",
     "status": "completed"
    },
    "tags": []
   },
   "source": [
    "# How's the proportion between men and women?"
   ]
  },
  {
   "cell_type": "code",
   "execution_count": 14,
   "id": "b2c02379",
   "metadata": {
    "execution": {
     "iopub.execute_input": "2022-05-18T23:44:12.409489Z",
     "iopub.status.busy": "2022-05-18T23:44:12.408782Z",
     "iopub.status.idle": "2022-05-18T23:44:12.417589Z",
     "shell.execute_reply": "2022-05-18T23:44:12.416692Z"
    },
    "papermill": {
     "duration": 0.047116,
     "end_time": "2022-05-18T23:44:12.419690",
     "exception": false,
     "start_time": "2022-05-18T23:44:12.372574",
     "status": "completed"
    },
    "tags": []
   },
   "outputs": [
    {
     "data": {
      "text/plain": [
       "female    0.518\n",
       "male      0.482\n",
       "Name: gender, dtype: float64"
      ]
     },
     "execution_count": 14,
     "metadata": {},
     "output_type": "execute_result"
    }
   ],
   "source": [
    "df['gender'].value_counts('gender')"
   ]
  },
  {
   "cell_type": "code",
   "execution_count": 15,
   "id": "7a6f9e5f",
   "metadata": {
    "execution": {
     "iopub.execute_input": "2022-05-18T23:44:12.492227Z",
     "iopub.status.busy": "2022-05-18T23:44:12.491916Z",
     "iopub.status.idle": "2022-05-18T23:44:12.499770Z",
     "shell.execute_reply": "2022-05-18T23:44:12.499166Z"
    },
    "papermill": {
     "duration": 0.046923,
     "end_time": "2022-05-18T23:44:12.502088",
     "exception": false,
     "start_time": "2022-05-18T23:44:12.455165",
     "status": "completed"
    },
    "tags": []
   },
   "outputs": [
    {
     "name": "stdout",
     "output_type": "stream",
     "text": [
      "{'female': 518, 'male': 482}\n"
     ]
    }
   ],
   "source": [
    "# Inserting the values above in a python dictionary.\n",
    "proportion = {}\n",
    "\n",
    "proportion['female'] = df[df['gender']=='female']['gender'].count()\n",
    "proportion['male'] = df[df['gender']=='male']['gender'].count()\n",
    "\n",
    "print(proportion)\n",
    "\n",
    "#df['gender'].plot(kind='bar', stacked=True)\n",
    "\n"
   ]
  },
  {
   "cell_type": "code",
   "execution_count": 16,
   "id": "ad6f0035",
   "metadata": {
    "execution": {
     "iopub.execute_input": "2022-05-18T23:44:12.578024Z",
     "iopub.status.busy": "2022-05-18T23:44:12.577721Z",
     "iopub.status.idle": "2022-05-18T23:44:12.678540Z",
     "shell.execute_reply": "2022-05-18T23:44:12.677456Z"
    },
    "papermill": {
     "duration": 0.14296,
     "end_time": "2022-05-18T23:44:12.681897",
     "exception": false,
     "start_time": "2022-05-18T23:44:12.538937",
     "status": "completed"
    },
    "tags": []
   },
   "outputs": [
    {
     "data": {
      "image/png": "[encoded data removed]",
      "text/plain": [
       "<Figure size 216x360 with 1 Axes>"
      ]
     },
     "metadata": {},
     "output_type": "display_data"
    }
   ],
   "source": [
    "# Data to plot\n",
    "labels = []\n",
    "sizes = []\n",
    "\n",
    "for x, y in proportion.items():\n",
    "    labels.append(x)\n",
    "    sizes.append(y)\n",
    "    \n",
    "labels = [x.upper() for x in labels]    \n",
    "colors_list = ['blue','cyan']    \n",
    "    \n",
    "# Plot\n",
    "plt.pie(sizes, labels=labels, colors=colors_list, autopct='%.1f%%')\n",
    "plt.title(\"Distribution of types\")\n",
    "\n",
    "\n",
    "plt.show()"
   ]
  },
  {
   "cell_type": "markdown",
   "id": "7482aeda",
   "metadata": {
    "papermill": {
     "duration": 0.047169,
     "end_time": "2022-05-18T23:44:12.796602",
     "exception": false,
     "start_time": "2022-05-18T23:44:12.749433",
     "status": "completed"
    },
    "tags": []
   },
   "source": [
    "One can see that the proportion is very equal, almost 50/50."
   ]
  },
  {
   "cell_type": "markdown",
   "id": "eeb841ba",
   "metadata": {
    "papermill": {
     "duration": 0.037412,
     "end_time": "2022-05-18T23:44:12.870935",
     "exception": false,
     "start_time": "2022-05-18T23:44:12.833523",
     "status": "completed"
    },
    "tags": []
   },
   "source": [
    "# How's the proportion of parental level of education?"
   ]
  },
  {
   "cell_type": "code",
   "execution_count": 17,
   "id": "f27a8af4",
   "metadata": {
    "execution": {
     "iopub.execute_input": "2022-05-18T23:44:12.946779Z",
     "iopub.status.busy": "2022-05-18T23:44:12.946228Z",
     "iopub.status.idle": "2022-05-18T23:44:12.955104Z",
     "shell.execute_reply": "2022-05-18T23:44:12.954144Z"
    },
    "papermill": {
     "duration": 0.049903,
     "end_time": "2022-05-18T23:44:12.957367",
     "exception": false,
     "start_time": "2022-05-18T23:44:12.907464",
     "status": "completed"
    },
    "tags": []
   },
   "outputs": [
    {
     "data": {
      "text/plain": [
       "some college          0.226\n",
       "associate's degree    0.222\n",
       "high school           0.196\n",
       "some high school      0.179\n",
       "bachelor's degree     0.118\n",
       "master's degree       0.059\n",
       "Name: parental level of education, dtype: float64"
      ]
     },
     "execution_count": 17,
     "metadata": {},
     "output_type": "execute_result"
    }
   ],
   "source": [
    "df['parental level of education'].value_counts('parental level of education')"
   ]
  },
  {
   "cell_type": "markdown",
   "id": "687e9fb6",
   "metadata": {
    "papermill": {
     "duration": 0.037581,
     "end_time": "2022-05-18T23:44:13.032092",
     "exception": false,
     "start_time": "2022-05-18T23:44:12.994511",
     "status": "completed"
    },
    "tags": []
   },
   "source": [
    "# Which kind of lunch do the students prefer?"
   ]
  },
  {
   "cell_type": "code",
   "execution_count": 18,
   "id": "1a92f43c",
   "metadata": {
    "execution": {
     "iopub.execute_input": "2022-05-18T23:44:13.108825Z",
     "iopub.status.busy": "2022-05-18T23:44:13.108484Z",
     "iopub.status.idle": "2022-05-18T23:44:13.116826Z",
     "shell.execute_reply": "2022-05-18T23:44:13.116182Z"
    },
    "papermill": {
     "duration": 0.048243,
     "end_time": "2022-05-18T23:44:13.118616",
     "exception": false,
     "start_time": "2022-05-18T23:44:13.070373",
     "status": "completed"
    },
    "tags": []
   },
   "outputs": [
    {
     "data": {
      "text/plain": [
       "standard        0.645\n",
       "free/reduced    0.355\n",
       "Name: lunch, dtype: float64"
      ]
     },
     "execution_count": 18,
     "metadata": {},
     "output_type": "execute_result"
    }
   ],
   "source": [
    "df['lunch'].value_counts('lunch')"
   ]
  },
  {
   "cell_type": "markdown",
   "id": "abce80d8",
   "metadata": {
    "papermill": {
     "duration": 0.037097,
     "end_time": "2022-05-18T23:44:13.193055",
     "exception": false,
     "start_time": "2022-05-18T23:44:13.155958",
     "status": "completed"
    },
    "tags": []
   },
   "source": [
    "One can see that most students opt for standart lunch."
   ]
  },
  {
   "cell_type": "markdown",
   "id": "752ddca5",
   "metadata": {
    "papermill": {
     "duration": 0.037195,
     "end_time": "2022-05-18T23:44:13.267419",
     "exception": false,
     "start_time": "2022-05-18T23:44:13.230224",
     "status": "completed"
    },
    "tags": []
   },
   "source": []
  }
 ],
 "metadata": {
  "kernelspec": {
   "display_name": "Python 3",
   "language": "python",
   "name": "python3"
  },
  "language_info": {
   "codemirror_mode": {
    "name": "ipython",
    "version": 3
   },
   "file_extension": ".py",
   "mimetype": "text/x-python",
   "name": "python",
   "nbconvert_exporter": "python",
   "pygments_lexer": "ipython3",
   "version": "3.7.12"
  },
  "papermill": {
   "default_parameters": {},
   "duration": 16.094143,
   "end_time": "2022-05-18T23:44:14.026812",
   "environment_variables": {},
   "exception": null,
   "input_path": "__notebook__.ipynb",
   "output_path": "__notebook__.ipynb",
   "parameters": {},
   "start_time": "2022-05-18T23:43:57.932669",
   "version": "2.3.4"
  }
 },
 "nbformat": 4,
 "nbformat_minor": 5
}
