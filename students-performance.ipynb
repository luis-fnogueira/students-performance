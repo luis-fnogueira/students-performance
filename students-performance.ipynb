{
 "cells": [
  {
   "cell_type": "code",
   "execution_count": 1,
   "id": "d1f57054",
   "metadata": {
    "_cell_guid": "b1076dfc-b9ad-4769-8c92-a6c4dae69d19",
    "_uuid": "8f2839f25d086af736a60e9eeb907d3b93b6e0e5",
    "execution": {
     "iopub.execute_input": "2022-04-28T01:55:44.592132Z",
     "iopub.status.busy": "2022-04-28T01:55:44.591458Z",
     "iopub.status.idle": "2022-04-28T01:55:45.818578Z",
     "shell.execute_reply": "2022-04-28T01:55:45.817656Z"
    },
    "papermill": {
     "duration": 1.244018,
     "end_time": "2022-04-28T01:55:45.821945",
     "exception": false,
     "start_time": "2022-04-28T01:55:44.577927",
     "status": "completed"
    },
    "tags": []
   },
   "outputs": [
    {
     "name": "stdout",
     "output_type": "stream",
     "text": [
      "/kaggle/input/students-performance-in-exams/StudentsPerformance.csv\n"
     ]
    }
   ],
   "source": [
    "# This Python 3 environment comes with many helpful analytics libraries installed\n",
    "# It is defined by the kaggle/python Docker image: https://github.com/kaggle/docker-python\n",
    "# For example, here's several helpful packages to load\n",
    "\n",
    "import numpy as np # linear algebra\n",
    "import pandas as pd # data processing, CSV file I/O (e.g. pd.read_csv)\n",
    "import seaborn as sns\n",
    "\n",
    "# Input data files are available in the read-only \"../input/\" directory\n",
    "# For example, running this (by clicking run or pressing Shift+Enter) will list all files under the input directory\n",
    "\n",
    "import os\n",
    "for dirname, _, filenames in os.walk('/kaggle/input'):\n",
    "    for filename in filenames:\n",
    "        print(os.path.join(dirname, filename))\n",
    "\n",
    "# You can write up to 20GB to the current directory (/kaggle/working/) that gets preserved as output when you create a version using \"Save & Run All\" \n",
    "# You can also write temporary files to /kaggle/temp/, but they won't be saved outside of the current session"
   ]
  },
  {
   "cell_type": "code",
   "execution_count": 2,
   "id": "cbf32c34",
   "metadata": {
    "execution": {
     "iopub.execute_input": "2022-04-28T01:55:45.845340Z",
     "iopub.status.busy": "2022-04-28T01:55:45.844997Z",
     "iopub.status.idle": "2022-04-28T01:55:45.864053Z",
     "shell.execute_reply": "2022-04-28T01:55:45.863056Z"
    },
    "papermill": {
     "duration": 0.033835,
     "end_time": "2022-04-28T01:55:45.867043",
     "exception": false,
     "start_time": "2022-04-28T01:55:45.833208",
     "status": "completed"
    },
    "tags": []
   },
   "outputs": [],
   "source": [
    "df = pd.read_csv('/kaggle/input/students-performance-in-exams/StudentsPerformance.csv')"
   ]
  },
  {
   "cell_type": "markdown",
   "id": "6019637a",
   "metadata": {
    "papermill": {
     "duration": 0.009748,
     "end_time": "2022-04-28T01:55:45.887056",
     "exception": false,
     "start_time": "2022-04-28T01:55:45.877308",
     "status": "completed"
    },
    "tags": []
   },
   "source": [
    "### First glances on the dataset"
   ]
  },
  {
   "cell_type": "code",
   "execution_count": 3,
   "id": "6b5bd3c8",
   "metadata": {
    "execution": {
     "iopub.execute_input": "2022-04-28T01:55:45.909382Z",
     "iopub.status.busy": "2022-04-28T01:55:45.908801Z",
     "iopub.status.idle": "2022-04-28T01:55:45.932141Z",
     "shell.execute_reply": "2022-04-28T01:55:45.931293Z"
    },
    "papermill": {
     "duration": 0.037416,
     "end_time": "2022-04-28T01:55:45.934566",
     "exception": false,
     "start_time": "2022-04-28T01:55:45.897150",
     "status": "completed"
    },
    "tags": []
   },
   "outputs": [
    {
     "data": {
      "text/html": [
       "<div>\n",
       "<style scoped>\n",
       "    .dataframe tbody tr th:only-of-type {\n",
       "        vertical-align: middle;\n",
       "    }\n",
       "\n",
       "    .dataframe tbody tr th {\n",
       "        vertical-align: top;\n",
       "    }\n",
       "\n",
       "    .dataframe thead th {\n",
       "        text-align: right;\n",
       "    }\n",
       "</style>\n",
       "<table border=\"1\" class=\"dataframe\">\n",
       "  <thead>\n",
       "    <tr style=\"text-align: right;\">\n",
       "      <th></th>\n",
       "      <th>gender</th>\n",
       "      <th>race/ethnicity</th>\n",
       "      <th>parental level of education</th>\n",
       "      <th>lunch</th>\n",
       "      <th>test preparation course</th>\n",
       "      <th>math score</th>\n",
       "      <th>reading score</th>\n",
       "      <th>writing score</th>\n",
       "    </tr>\n",
       "  </thead>\n",
       "  <tbody>\n",
       "    <tr>\n",
       "      <th>0</th>\n",
       "      <td>female</td>\n",
       "      <td>group B</td>\n",
       "      <td>bachelor's degree</td>\n",
       "      <td>standard</td>\n",
       "      <td>none</td>\n",
       "      <td>72</td>\n",
       "      <td>72</td>\n",
       "      <td>74</td>\n",
       "    </tr>\n",
       "    <tr>\n",
       "      <th>1</th>\n",
       "      <td>female</td>\n",
       "      <td>group C</td>\n",
       "      <td>some college</td>\n",
       "      <td>standard</td>\n",
       "      <td>completed</td>\n",
       "      <td>69</td>\n",
       "      <td>90</td>\n",
       "      <td>88</td>\n",
       "    </tr>\n",
       "    <tr>\n",
       "      <th>2</th>\n",
       "      <td>female</td>\n",
       "      <td>group B</td>\n",
       "      <td>master's degree</td>\n",
       "      <td>standard</td>\n",
       "      <td>none</td>\n",
       "      <td>90</td>\n",
       "      <td>95</td>\n",
       "      <td>93</td>\n",
       "    </tr>\n",
       "    <tr>\n",
       "      <th>3</th>\n",
       "      <td>male</td>\n",
       "      <td>group A</td>\n",
       "      <td>associate's degree</td>\n",
       "      <td>free/reduced</td>\n",
       "      <td>none</td>\n",
       "      <td>47</td>\n",
       "      <td>57</td>\n",
       "      <td>44</td>\n",
       "    </tr>\n",
       "    <tr>\n",
       "      <th>4</th>\n",
       "      <td>male</td>\n",
       "      <td>group C</td>\n",
       "      <td>some college</td>\n",
       "      <td>standard</td>\n",
       "      <td>none</td>\n",
       "      <td>76</td>\n",
       "      <td>78</td>\n",
       "      <td>75</td>\n",
       "    </tr>\n",
       "  </tbody>\n",
       "</table>\n",
       "</div>"
      ],
      "text/plain": [
       "   gender race/ethnicity parental level of education         lunch  \\\n",
       "0  female        group B           bachelor's degree      standard   \n",
       "1  female        group C                some college      standard   \n",
       "2  female        group B             master's degree      standard   \n",
       "3    male        group A          associate's degree  free/reduced   \n",
       "4    male        group C                some college      standard   \n",
       "\n",
       "  test preparation course  math score  reading score  writing score  \n",
       "0                    none          72             72             74  \n",
       "1               completed          69             90             88  \n",
       "2                    none          90             95             93  \n",
       "3                    none          47             57             44  \n",
       "4                    none          76             78             75  "
      ]
     },
     "execution_count": 3,
     "metadata": {},
     "output_type": "execute_result"
    }
   ],
   "source": [
    "df.head()"
   ]
  },
  {
   "cell_type": "code",
   "execution_count": 4,
   "id": "74f76e60",
   "metadata": {
    "execution": {
     "iopub.execute_input": "2022-04-28T01:55:45.957462Z",
     "iopub.status.busy": "2022-04-28T01:55:45.957175Z",
     "iopub.status.idle": "2022-04-28T01:55:45.964291Z",
     "shell.execute_reply": "2022-04-28T01:55:45.963446Z"
    },
    "papermill": {
     "duration": 0.0216,
     "end_time": "2022-04-28T01:55:45.966694",
     "exception": false,
     "start_time": "2022-04-28T01:55:45.945094",
     "status": "completed"
    },
    "tags": []
   },
   "outputs": [
    {
     "data": {
      "text/plain": [
       "gender                         object\n",
       "race/ethnicity                 object\n",
       "parental level of education    object\n",
       "lunch                          object\n",
       "test preparation course        object\n",
       "math score                      int64\n",
       "reading score                   int64\n",
       "writing score                   int64\n",
       "dtype: object"
      ]
     },
     "execution_count": 4,
     "metadata": {},
     "output_type": "execute_result"
    }
   ],
   "source": [
    "df.dtypes"
   ]
  },
  {
   "cell_type": "code",
   "execution_count": 5,
   "id": "ebb5d144",
   "metadata": {
    "execution": {
     "iopub.execute_input": "2022-04-28T01:55:45.992057Z",
     "iopub.status.busy": "2022-04-28T01:55:45.991620Z",
     "iopub.status.idle": "2022-04-28T01:55:46.022791Z",
     "shell.execute_reply": "2022-04-28T01:55:46.021968Z"
    },
    "papermill": {
     "duration": 0.046201,
     "end_time": "2022-04-28T01:55:46.024934",
     "exception": false,
     "start_time": "2022-04-28T01:55:45.978733",
     "status": "completed"
    },
    "tags": []
   },
   "outputs": [
    {
     "data": {
      "text/html": [
       "<div>\n",
       "<style scoped>\n",
       "    .dataframe tbody tr th:only-of-type {\n",
       "        vertical-align: middle;\n",
       "    }\n",
       "\n",
       "    .dataframe tbody tr th {\n",
       "        vertical-align: top;\n",
       "    }\n",
       "\n",
       "    .dataframe thead th {\n",
       "        text-align: right;\n",
       "    }\n",
       "</style>\n",
       "<table border=\"1\" class=\"dataframe\">\n",
       "  <thead>\n",
       "    <tr style=\"text-align: right;\">\n",
       "      <th></th>\n",
       "      <th>math score</th>\n",
       "      <th>reading score</th>\n",
       "      <th>writing score</th>\n",
       "    </tr>\n",
       "  </thead>\n",
       "  <tbody>\n",
       "    <tr>\n",
       "      <th>count</th>\n",
       "      <td>1000.00000</td>\n",
       "      <td>1000.000000</td>\n",
       "      <td>1000.000000</td>\n",
       "    </tr>\n",
       "    <tr>\n",
       "      <th>mean</th>\n",
       "      <td>66.08900</td>\n",
       "      <td>69.169000</td>\n",
       "      <td>68.054000</td>\n",
       "    </tr>\n",
       "    <tr>\n",
       "      <th>std</th>\n",
       "      <td>15.16308</td>\n",
       "      <td>14.600192</td>\n",
       "      <td>15.195657</td>\n",
       "    </tr>\n",
       "    <tr>\n",
       "      <th>min</th>\n",
       "      <td>0.00000</td>\n",
       "      <td>17.000000</td>\n",
       "      <td>10.000000</td>\n",
       "    </tr>\n",
       "    <tr>\n",
       "      <th>25%</th>\n",
       "      <td>57.00000</td>\n",
       "      <td>59.000000</td>\n",
       "      <td>57.750000</td>\n",
       "    </tr>\n",
       "    <tr>\n",
       "      <th>50%</th>\n",
       "      <td>66.00000</td>\n",
       "      <td>70.000000</td>\n",
       "      <td>69.000000</td>\n",
       "    </tr>\n",
       "    <tr>\n",
       "      <th>75%</th>\n",
       "      <td>77.00000</td>\n",
       "      <td>79.000000</td>\n",
       "      <td>79.000000</td>\n",
       "    </tr>\n",
       "    <tr>\n",
       "      <th>max</th>\n",
       "      <td>100.00000</td>\n",
       "      <td>100.000000</td>\n",
       "      <td>100.000000</td>\n",
       "    </tr>\n",
       "  </tbody>\n",
       "</table>\n",
       "</div>"
      ],
      "text/plain": [
       "       math score  reading score  writing score\n",
       "count  1000.00000    1000.000000    1000.000000\n",
       "mean     66.08900      69.169000      68.054000\n",
       "std      15.16308      14.600192      15.195657\n",
       "min       0.00000      17.000000      10.000000\n",
       "25%      57.00000      59.000000      57.750000\n",
       "50%      66.00000      70.000000      69.000000\n",
       "75%      77.00000      79.000000      79.000000\n",
       "max     100.00000     100.000000     100.000000"
      ]
     },
     "execution_count": 5,
     "metadata": {},
     "output_type": "execute_result"
    }
   ],
   "source": [
    "df.describe()"
   ]
  },
  {
   "cell_type": "code",
   "execution_count": 6,
   "id": "ec10db3e",
   "metadata": {
    "execution": {
     "iopub.execute_input": "2022-04-28T01:55:46.050841Z",
     "iopub.status.busy": "2022-04-28T01:55:46.050194Z",
     "iopub.status.idle": "2022-04-28T01:55:46.059165Z",
     "shell.execute_reply": "2022-04-28T01:55:46.058361Z"
    },
    "papermill": {
     "duration": 0.024161,
     "end_time": "2022-04-28T01:55:46.061141",
     "exception": false,
     "start_time": "2022-04-28T01:55:46.036980",
     "status": "completed"
    },
    "tags": []
   },
   "outputs": [
    {
     "data": {
      "text/plain": [
       "gender                         0\n",
       "race/ethnicity                 0\n",
       "parental level of education    0\n",
       "lunch                          0\n",
       "test preparation course        0\n",
       "math score                     0\n",
       "reading score                  0\n",
       "writing score                  0\n",
       "dtype: int64"
      ]
     },
     "execution_count": 6,
     "metadata": {},
     "output_type": "execute_result"
    }
   ],
   "source": [
    "# Identifying if the dataset has null values\n",
    "\n",
    "df.isnull().sum()\n",
    "\n",
    "# Looks like our dataset has all rows duly filled."
   ]
  },
  {
   "cell_type": "markdown",
   "id": "8c03ea9c",
   "metadata": {
    "papermill": {
     "duration": 0.011773,
     "end_time": "2022-04-28T01:55:46.084720",
     "exception": false,
     "start_time": "2022-04-28T01:55:46.072947",
     "status": "completed"
    },
    "tags": []
   },
   "source": [
    "# Distribution of the grades"
   ]
  },
  {
   "cell_type": "code",
   "execution_count": 7,
   "id": "80773ecd",
   "metadata": {
    "execution": {
     "iopub.execute_input": "2022-04-28T01:55:46.110817Z",
     "iopub.status.busy": "2022-04-28T01:55:46.110367Z",
     "iopub.status.idle": "2022-04-28T01:55:46.315223Z",
     "shell.execute_reply": "2022-04-28T01:55:46.314079Z"
    },
    "papermill": {
     "duration": 0.221195,
     "end_time": "2022-04-28T01:55:46.318019",
     "exception": false,
     "start_time": "2022-04-28T01:55:46.096824",
     "status": "completed"
    },
    "tags": []
   },
   "outputs": [
    {
     "data": {
      "text/plain": [
       "<AxesSubplot:ylabel='math score'>"
      ]
     },
     "execution_count": 7,
     "metadata": {},
     "output_type": "execute_result"
    },
    {
     "data": {
      "image/png": "[encoded data removed]",
      "text/plain": [
       "<Figure size 216x360 with 1 Axes>"
      ]
     },
     "metadata": {},
     "output_type": "display_data"
    }
   ],
   "source": [
    "sns.set_theme(style=\"ticks\", palette=\"pastel\")\n",
    "\n",
    "sns.set(rc={\"figure.figsize\":(3, 5)}) #width=3, #height=4\n",
    "\n",
    "sns.boxplot(y=\"math score\",\n",
    "            palette=[\"m\", \"g\"],\n",
    "            data=df)\n",
    "\n"
   ]
  }
 ],
 "metadata": {
  "kernelspec": {
   "display_name": "Python 3",
   "language": "python",
   "name": "python3"
  },
  "language_info": {
   "codemirror_mode": {
    "name": "ipython",
    "version": 3
   },
   "file_extension": ".py",
   "mimetype": "text/x-python",
   "name": "python",
   "nbconvert_exporter": "python",
   "pygments_lexer": "ipython3",
   "version": "3.7.12"
  },
  "papermill": {
   "default_parameters": {},
   "duration": 14.466341,
   "end_time": "2022-04-28T01:55:47.256732",
   "environment_variables": {},
   "exception": null,
   "input_path": "__notebook__.ipynb",
   "output_path": "__notebook__.ipynb",
   "parameters": {},
   "start_time": "2022-04-28T01:55:32.790391",
   "version": "2.3.4"
  }
 },
 "nbformat": 4,
 "nbformat_minor": 5
}
