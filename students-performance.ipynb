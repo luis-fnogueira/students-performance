{
 "cells": [
  {
   "cell_type": "code",
   "execution_count": 1,
   "id": "0a8c8d07",
   "metadata": {
    "_cell_guid": "b1076dfc-b9ad-4769-8c92-a6c4dae69d19",
    "_uuid": "8f2839f25d086af736a60e9eeb907d3b93b6e0e5",
    "execution": {
     "iopub.execute_input": "2022-05-09T01:45:47.021268Z",
     "iopub.status.busy": "2022-05-09T01:45:47.020848Z",
     "iopub.status.idle": "2022-05-09T01:45:48.066280Z",
     "shell.execute_reply": "2022-05-09T01:45:48.065169Z"
    },
    "papermill": {
     "duration": 1.058985,
     "end_time": "2022-05-09T01:45:48.068686",
     "exception": false,
     "start_time": "2022-05-09T01:45:47.009701",
     "status": "completed"
    },
    "tags": []
   },
   "outputs": [
    {
     "name": "stdout",
     "output_type": "stream",
     "text": [
      "/kaggle/input/students-performance-in-exams/StudentsPerformance.csv\n"
     ]
    }
   ],
   "source": [
    "# This Python 3 environment comes with many helpful analytics libraries installed\n",
    "# It is defined by the kaggle/python Docker image: https://github.com/kaggle/docker-python\n",
    "# For example, here's several helpful packages to load\n",
    "\n",
    "import numpy as np # linear algebra\n",
    "import pandas as pd # data processing, CSV file I/O (e.g. pd.read_csv)\n",
    "import seaborn as sns\n",
    "\n",
    "# Input data files are available in the read-only \"../input/\" directory\n",
    "# For example, running this (by clicking run or pressing Shift+Enter) will list all files under the input directory\n",
    "\n",
    "import os\n",
    "for dirname, _, filenames in os.walk('/kaggle/input'):\n",
    "    for filename in filenames:\n",
    "        print(os.path.join(dirname, filename))\n",
    "\n",
    "# You can write up to 20GB to the current directory (/kaggle/working/) that gets preserved as output when you create a version using \"Save & Run All\" \n",
    "# You can also write temporary files to /kaggle/temp/, but they won't be saved outside of the current session"
   ]
  },
  {
   "cell_type": "code",
   "execution_count": 2,
   "id": "a12949ed",
   "metadata": {
    "execution": {
     "iopub.execute_input": "2022-05-09T01:45:48.087824Z",
     "iopub.status.busy": "2022-05-09T01:45:48.087513Z",
     "iopub.status.idle": "2022-05-09T01:45:48.107449Z",
     "shell.execute_reply": "2022-05-09T01:45:48.106369Z"
    },
    "papermill": {
     "duration": 0.03198,
     "end_time": "2022-05-09T01:45:48.109867",
     "exception": false,
     "start_time": "2022-05-09T01:45:48.077887",
     "status": "completed"
    },
    "tags": []
   },
   "outputs": [],
   "source": [
    "df = pd.read_csv('/kaggle/input/students-performance-in-exams/StudentsPerformance.csv')"
   ]
  },
  {
   "cell_type": "markdown",
   "id": "c2dbbf11",
   "metadata": {
    "papermill": {
     "duration": 0.00831,
     "end_time": "2022-05-09T01:45:48.126797",
     "exception": false,
     "start_time": "2022-05-09T01:45:48.118487",
     "status": "completed"
    },
    "tags": []
   },
   "source": [
    "### First glances on the dataset"
   ]
  },
  {
   "cell_type": "code",
   "execution_count": 3,
   "id": "32f66f46",
   "metadata": {
    "execution": {
     "iopub.execute_input": "2022-05-09T01:45:48.145731Z",
     "iopub.status.busy": "2022-05-09T01:45:48.145152Z",
     "iopub.status.idle": "2022-05-09T01:45:48.165673Z",
     "shell.execute_reply": "2022-05-09T01:45:48.164531Z"
    },
    "papermill": {
     "duration": 0.032426,
     "end_time": "2022-05-09T01:45:48.167865",
     "exception": false,
     "start_time": "2022-05-09T01:45:48.135439",
     "status": "completed"
    },
    "tags": []
   },
   "outputs": [
    {
     "data": {
      "text/html": [
       "<div>\n",
       "<style scoped>\n",
       "    .dataframe tbody tr th:only-of-type {\n",
       "        vertical-align: middle;\n",
       "    }\n",
       "\n",
       "    .dataframe tbody tr th {\n",
       "        vertical-align: top;\n",
       "    }\n",
       "\n",
       "    .dataframe thead th {\n",
       "        text-align: right;\n",
       "    }\n",
       "</style>\n",
       "<table border=\"1\" class=\"dataframe\">\n",
       "  <thead>\n",
       "    <tr style=\"text-align: right;\">\n",
       "      <th></th>\n",
       "      <th>gender</th>\n",
       "      <th>race/ethnicity</th>\n",
       "      <th>parental level of education</th>\n",
       "      <th>lunch</th>\n",
       "      <th>test preparation course</th>\n",
       "      <th>math score</th>\n",
       "      <th>reading score</th>\n",
       "      <th>writing score</th>\n",
       "    </tr>\n",
       "  </thead>\n",
       "  <tbody>\n",
       "    <tr>\n",
       "      <th>0</th>\n",
       "      <td>female</td>\n",
       "      <td>group B</td>\n",
       "      <td>bachelor's degree</td>\n",
       "      <td>standard</td>\n",
       "      <td>none</td>\n",
       "      <td>72</td>\n",
       "      <td>72</td>\n",
       "      <td>74</td>\n",
       "    </tr>\n",
       "    <tr>\n",
       "      <th>1</th>\n",
       "      <td>female</td>\n",
       "      <td>group C</td>\n",
       "      <td>some college</td>\n",
       "      <td>standard</td>\n",
       "      <td>completed</td>\n",
       "      <td>69</td>\n",
       "      <td>90</td>\n",
       "      <td>88</td>\n",
       "    </tr>\n",
       "    <tr>\n",
       "      <th>2</th>\n",
       "      <td>female</td>\n",
       "      <td>group B</td>\n",
       "      <td>master's degree</td>\n",
       "      <td>standard</td>\n",
       "      <td>none</td>\n",
       "      <td>90</td>\n",
       "      <td>95</td>\n",
       "      <td>93</td>\n",
       "    </tr>\n",
       "    <tr>\n",
       "      <th>3</th>\n",
       "      <td>male</td>\n",
       "      <td>group A</td>\n",
       "      <td>associate's degree</td>\n",
       "      <td>free/reduced</td>\n",
       "      <td>none</td>\n",
       "      <td>47</td>\n",
       "      <td>57</td>\n",
       "      <td>44</td>\n",
       "    </tr>\n",
       "    <tr>\n",
       "      <th>4</th>\n",
       "      <td>male</td>\n",
       "      <td>group C</td>\n",
       "      <td>some college</td>\n",
       "      <td>standard</td>\n",
       "      <td>none</td>\n",
       "      <td>76</td>\n",
       "      <td>78</td>\n",
       "      <td>75</td>\n",
       "    </tr>\n",
       "  </tbody>\n",
       "</table>\n",
       "</div>"
      ],
      "text/plain": [
       "   gender race/ethnicity parental level of education         lunch  \\\n",
       "0  female        group B           bachelor's degree      standard   \n",
       "1  female        group C                some college      standard   \n",
       "2  female        group B             master's degree      standard   \n",
       "3    male        group A          associate's degree  free/reduced   \n",
       "4    male        group C                some college      standard   \n",
       "\n",
       "  test preparation course  math score  reading score  writing score  \n",
       "0                    none          72             72             74  \n",
       "1               completed          69             90             88  \n",
       "2                    none          90             95             93  \n",
       "3                    none          47             57             44  \n",
       "4                    none          76             78             75  "
      ]
     },
     "execution_count": 3,
     "metadata": {},
     "output_type": "execute_result"
    }
   ],
   "source": [
    "df.head()"
   ]
  },
  {
   "cell_type": "code",
   "execution_count": 4,
   "id": "ce168f45",
   "metadata": {
    "execution": {
     "iopub.execute_input": "2022-05-09T01:45:48.187125Z",
     "iopub.status.busy": "2022-05-09T01:45:48.186835Z",
     "iopub.status.idle": "2022-05-09T01:45:48.193493Z",
     "shell.execute_reply": "2022-05-09T01:45:48.192591Z"
    },
    "papermill": {
     "duration": 0.019043,
     "end_time": "2022-05-09T01:45:48.195714",
     "exception": false,
     "start_time": "2022-05-09T01:45:48.176671",
     "status": "completed"
    },
    "tags": []
   },
   "outputs": [
    {
     "data": {
      "text/plain": [
       "gender                         object\n",
       "race/ethnicity                 object\n",
       "parental level of education    object\n",
       "lunch                          object\n",
       "test preparation course        object\n",
       "math score                      int64\n",
       "reading score                   int64\n",
       "writing score                   int64\n",
       "dtype: object"
      ]
     },
     "execution_count": 4,
     "metadata": {},
     "output_type": "execute_result"
    }
   ],
   "source": [
    "df.dtypes"
   ]
  },
  {
   "cell_type": "code",
   "execution_count": 5,
   "id": "c3aaece7",
   "metadata": {
    "execution": {
     "iopub.execute_input": "2022-05-09T01:45:48.215357Z",
     "iopub.status.busy": "2022-05-09T01:45:48.215062Z",
     "iopub.status.idle": "2022-05-09T01:45:48.243380Z",
     "shell.execute_reply": "2022-05-09T01:45:48.242545Z"
    },
    "papermill": {
     "duration": 0.04064,
     "end_time": "2022-05-09T01:45:48.245463",
     "exception": false,
     "start_time": "2022-05-09T01:45:48.204823",
     "status": "completed"
    },
    "tags": []
   },
   "outputs": [
    {
     "data": {
      "text/html": [
       "<div>\n",
       "<style scoped>\n",
       "    .dataframe tbody tr th:only-of-type {\n",
       "        vertical-align: middle;\n",
       "    }\n",
       "\n",
       "    .dataframe tbody tr th {\n",
       "        vertical-align: top;\n",
       "    }\n",
       "\n",
       "    .dataframe thead th {\n",
       "        text-align: right;\n",
       "    }\n",
       "</style>\n",
       "<table border=\"1\" class=\"dataframe\">\n",
       "  <thead>\n",
       "    <tr style=\"text-align: right;\">\n",
       "      <th></th>\n",
       "      <th>math score</th>\n",
       "      <th>reading score</th>\n",
       "      <th>writing score</th>\n",
       "    </tr>\n",
       "  </thead>\n",
       "  <tbody>\n",
       "    <tr>\n",
       "      <th>count</th>\n",
       "      <td>1000.00000</td>\n",
       "      <td>1000.000000</td>\n",
       "      <td>1000.000000</td>\n",
       "    </tr>\n",
       "    <tr>\n",
       "      <th>mean</th>\n",
       "      <td>66.08900</td>\n",
       "      <td>69.169000</td>\n",
       "      <td>68.054000</td>\n",
       "    </tr>\n",
       "    <tr>\n",
       "      <th>std</th>\n",
       "      <td>15.16308</td>\n",
       "      <td>14.600192</td>\n",
       "      <td>15.195657</td>\n",
       "    </tr>\n",
       "    <tr>\n",
       "      <th>min</th>\n",
       "      <td>0.00000</td>\n",
       "      <td>17.000000</td>\n",
       "      <td>10.000000</td>\n",
       "    </tr>\n",
       "    <tr>\n",
       "      <th>25%</th>\n",
       "      <td>57.00000</td>\n",
       "      <td>59.000000</td>\n",
       "      <td>57.750000</td>\n",
       "    </tr>\n",
       "    <tr>\n",
       "      <th>50%</th>\n",
       "      <td>66.00000</td>\n",
       "      <td>70.000000</td>\n",
       "      <td>69.000000</td>\n",
       "    </tr>\n",
       "    <tr>\n",
       "      <th>75%</th>\n",
       "      <td>77.00000</td>\n",
       "      <td>79.000000</td>\n",
       "      <td>79.000000</td>\n",
       "    </tr>\n",
       "    <tr>\n",
       "      <th>max</th>\n",
       "      <td>100.00000</td>\n",
       "      <td>100.000000</td>\n",
       "      <td>100.000000</td>\n",
       "    </tr>\n",
       "  </tbody>\n",
       "</table>\n",
       "</div>"
      ],
      "text/plain": [
       "       math score  reading score  writing score\n",
       "count  1000.00000    1000.000000    1000.000000\n",
       "mean     66.08900      69.169000      68.054000\n",
       "std      15.16308      14.600192      15.195657\n",
       "min       0.00000      17.000000      10.000000\n",
       "25%      57.00000      59.000000      57.750000\n",
       "50%      66.00000      70.000000      69.000000\n",
       "75%      77.00000      79.000000      79.000000\n",
       "max     100.00000     100.000000     100.000000"
      ]
     },
     "execution_count": 5,
     "metadata": {},
     "output_type": "execute_result"
    }
   ],
   "source": [
    "df.describe()"
   ]
  },
  {
   "cell_type": "code",
   "execution_count": 6,
   "id": "f5cf3740",
   "metadata": {
    "execution": {
     "iopub.execute_input": "2022-05-09T01:45:48.266443Z",
     "iopub.status.busy": "2022-05-09T01:45:48.265847Z",
     "iopub.status.idle": "2022-05-09T01:45:48.274038Z",
     "shell.execute_reply": "2022-05-09T01:45:48.273172Z"
    },
    "papermill": {
     "duration": 0.020659,
     "end_time": "2022-05-09T01:45:48.275917",
     "exception": false,
     "start_time": "2022-05-09T01:45:48.255258",
     "status": "completed"
    },
    "tags": []
   },
   "outputs": [
    {
     "data": {
      "text/plain": [
       "gender                         0\n",
       "race/ethnicity                 0\n",
       "parental level of education    0\n",
       "lunch                          0\n",
       "test preparation course        0\n",
       "math score                     0\n",
       "reading score                  0\n",
       "writing score                  0\n",
       "dtype: int64"
      ]
     },
     "execution_count": 6,
     "metadata": {},
     "output_type": "execute_result"
    }
   ],
   "source": [
    "# Identifying if the dataset has null values\n",
    "\n",
    "df.isnull().sum()\n",
    "\n",
    "# Looks like our dataset has all rows duly filled."
   ]
  },
  {
   "cell_type": "markdown",
   "id": "98d707fb",
   "metadata": {
    "papermill": {
     "duration": 0.009577,
     "end_time": "2022-05-09T01:45:48.295506",
     "exception": false,
     "start_time": "2022-05-09T01:45:48.285929",
     "status": "completed"
    },
    "tags": []
   },
   "source": [
    "# Distribution of the grades"
   ]
  },
  {
   "cell_type": "code",
   "execution_count": 7,
   "id": "e4a5f69c",
   "metadata": {
    "execution": {
     "iopub.execute_input": "2022-05-09T01:45:48.317026Z",
     "iopub.status.busy": "2022-05-09T01:45:48.316579Z",
     "iopub.status.idle": "2022-05-09T01:45:48.466176Z",
     "shell.execute_reply": "2022-05-09T01:45:48.465349Z"
    },
    "papermill": {
     "duration": 0.163616,
     "end_time": "2022-05-09T01:45:48.468931",
     "exception": false,
     "start_time": "2022-05-09T01:45:48.305315",
     "status": "completed"
    },
    "tags": []
   },
   "outputs": [
    {
     "data": {
      "text/plain": [
       "<AxesSubplot:ylabel='math score'>"
      ]
     },
     "execution_count": 7,
     "metadata": {},
     "output_type": "execute_result"
    },
    {
     "data": {
      "image/png": "[encoded data removed]",
      "text/plain": [
       "<Figure size 216x360 with 1 Axes>"
      ]
     },
     "metadata": {},
     "output_type": "display_data"
    }
   ],
   "source": [
    "#Distribution for math scores\n",
    "\n",
    "sns.set_theme(style=\"ticks\", palette=\"pastel\")\n",
    "\n",
    "sns.set(rc={\"figure.figsize\":(3, 5)}) #width=3, #height=5\n",
    "\n",
    "sns.boxplot(y=\"math score\",\n",
    "            palette=[\"m\", \"g\"],\n",
    "            data=df)\n",
    "\n"
   ]
  },
  {
   "cell_type": "code",
   "execution_count": 8,
   "id": "b9ce0df5",
   "metadata": {
    "execution": {
     "iopub.execute_input": "2022-05-09T01:45:48.498773Z",
     "iopub.status.busy": "2022-05-09T01:45:48.497968Z",
     "iopub.status.idle": "2022-05-09T01:45:48.655390Z",
     "shell.execute_reply": "2022-05-09T01:45:48.654282Z"
    },
    "papermill": {
     "duration": 0.171758,
     "end_time": "2022-05-09T01:45:48.657585",
     "exception": false,
     "start_time": "2022-05-09T01:45:48.485827",
     "status": "completed"
    },
    "tags": []
   },
   "outputs": [
    {
     "data": {
      "text/plain": [
       "<AxesSubplot:ylabel='reading score'>"
      ]
     },
     "execution_count": 8,
     "metadata": {},
     "output_type": "execute_result"
    },
    {
     "data": {
      "image/png": "[encoded data removed]",
      "text/plain": [
       "<Figure size 216x360 with 1 Axes>"
      ]
     },
     "metadata": {},
     "output_type": "display_data"
    }
   ],
   "source": [
    "# Distribution for reading score \n",
    "\n",
    "\n",
    "sns.set_theme(style=\"ticks\", palette=\"pastel\")\n",
    "\n",
    "sns.set(rc={\"figure.figsize\":(3, 5)}) #width=3, #height=5\n",
    "\n",
    "sns.boxplot(y=\"reading score\",\n",
    "            palette=[\"m\", \"g\"],\n",
    "            data=df)\n"
   ]
  }
 ],
 "metadata": {
  "kernelspec": {
   "display_name": "Python 3",
   "language": "python",
   "name": "python3"
  },
  "language_info": {
   "codemirror_mode": {
    "name": "ipython",
    "version": 3
   },
   "file_extension": ".py",
   "mimetype": "text/x-python",
   "name": "python",
   "nbconvert_exporter": "python",
   "pygments_lexer": "ipython3",
   "version": "3.7.12"
  },
  "papermill": {
   "default_parameters": {},
   "duration": 11.862661,
   "end_time": "2022-05-09T01:45:49.393729",
   "environment_variables": {},
   "exception": null,
   "input_path": "__notebook__.ipynb",
   "output_path": "__notebook__.ipynb",
   "parameters": {},
   "start_time": "2022-05-09T01:45:37.531068",
   "version": "2.3.4"
  }
 },
 "nbformat": 4,
 "nbformat_minor": 5
}
