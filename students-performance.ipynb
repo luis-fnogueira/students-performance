{
 "cells": [
  {
   "cell_type": "code",
   "execution_count": 1,
   "id": "e2f25101",
   "metadata": {
    "_cell_guid": "b1076dfc-b9ad-4769-8c92-a6c4dae69d19",
    "_uuid": "8f2839f25d086af736a60e9eeb907d3b93b6e0e5",
    "execution": {
     "iopub.execute_input": "2022-05-16T23:34:13.394823Z",
     "iopub.status.busy": "2022-05-16T23:34:13.394452Z",
     "iopub.status.idle": "2022-05-16T23:34:14.522063Z",
     "shell.execute_reply": "2022-05-16T23:34:14.521153Z"
    },
    "papermill": {
     "duration": 1.148642,
     "end_time": "2022-05-16T23:34:14.524680",
     "exception": false,
     "start_time": "2022-05-16T23:34:13.376038",
     "status": "completed"
    },
    "tags": []
   },
   "outputs": [
    {
     "name": "stdout",
     "output_type": "stream",
     "text": [
      "/kaggle/input/students-performance-in-exams/StudentsPerformance.csv\n"
     ]
    }
   ],
   "source": [
    "# This Python 3 environment comes with many helpful analytics libraries installed\n",
    "# It is defined by the kaggle/python Docker image: https://github.com/kaggle/docker-python\n",
    "# For example, here's several helpful packages to load\n",
    "\n",
    "import numpy as np # linear algebra\n",
    "import pandas as pd # data processing, CSV file I/O (e.g. pd.read_csv)\n",
    "import seaborn as sns\n",
    "\n",
    "# Input data files are available in the read-only \"../input/\" directory\n",
    "# For example, running this (by clicking run or pressing Shift+Enter) will list all files under the input directory\n",
    "\n",
    "import os\n",
    "for dirname, _, filenames in os.walk('/kaggle/input'):\n",
    "    for filename in filenames:\n",
    "        print(os.path.join(dirname, filename))\n",
    "\n",
    "# You can write up to 20GB to the current directory (/kaggle/working/) that gets preserved as output when you create a version using \"Save & Run All\" \n",
    "# You can also write temporary files to /kaggle/temp/, but they won't be saved outside of the current session"
   ]
  },
  {
   "cell_type": "code",
   "execution_count": 2,
   "id": "17f21316",
   "metadata": {
    "execution": {
     "iopub.execute_input": "2022-05-16T23:34:14.559450Z",
     "iopub.status.busy": "2022-05-16T23:34:14.559152Z",
     "iopub.status.idle": "2022-05-16T23:34:14.579002Z",
     "shell.execute_reply": "2022-05-16T23:34:14.578251Z"
    },
    "papermill": {
     "duration": 0.03954,
     "end_time": "2022-05-16T23:34:14.581276",
     "exception": false,
     "start_time": "2022-05-16T23:34:14.541736",
     "status": "completed"
    },
    "tags": []
   },
   "outputs": [],
   "source": [
    "df = pd.read_csv('/kaggle/input/students-performance-in-exams/StudentsPerformance.csv')"
   ]
  },
  {
   "cell_type": "markdown",
   "id": "f0584aee",
   "metadata": {
    "papermill": {
     "duration": 0.015813,
     "end_time": "2022-05-16T23:34:14.613836",
     "exception": false,
     "start_time": "2022-05-16T23:34:14.598023",
     "status": "completed"
    },
    "tags": []
   },
   "source": [
    "### First glances on the dataset"
   ]
  },
  {
   "cell_type": "code",
   "execution_count": 3,
   "id": "dbb3649b",
   "metadata": {
    "execution": {
     "iopub.execute_input": "2022-05-16T23:34:14.648384Z",
     "iopub.status.busy": "2022-05-16T23:34:14.647517Z",
     "iopub.status.idle": "2022-05-16T23:34:14.669432Z",
     "shell.execute_reply": "2022-05-16T23:34:14.668452Z"
    },
    "papermill": {
     "duration": 0.041664,
     "end_time": "2022-05-16T23:34:14.671854",
     "exception": false,
     "start_time": "2022-05-16T23:34:14.630190",
     "status": "completed"
    },
    "tags": []
   },
   "outputs": [
    {
     "data": {
      "text/html": [
       "<div>\n",
       "<style scoped>\n",
       "    .dataframe tbody tr th:only-of-type {\n",
       "        vertical-align: middle;\n",
       "    }\n",
       "\n",
       "    .dataframe tbody tr th {\n",
       "        vertical-align: top;\n",
       "    }\n",
       "\n",
       "    .dataframe thead th {\n",
       "        text-align: right;\n",
       "    }\n",
       "</style>\n",
       "<table border=\"1\" class=\"dataframe\">\n",
       "  <thead>\n",
       "    <tr style=\"text-align: right;\">\n",
       "      <th></th>\n",
       "      <th>gender</th>\n",
       "      <th>race/ethnicity</th>\n",
       "      <th>parental level of education</th>\n",
       "      <th>lunch</th>\n",
       "      <th>test preparation course</th>\n",
       "      <th>math score</th>\n",
       "      <th>reading score</th>\n",
       "      <th>writing score</th>\n",
       "    </tr>\n",
       "  </thead>\n",
       "  <tbody>\n",
       "    <tr>\n",
       "      <th>0</th>\n",
       "      <td>female</td>\n",
       "      <td>group B</td>\n",
       "      <td>bachelor's degree</td>\n",
       "      <td>standard</td>\n",
       "      <td>none</td>\n",
       "      <td>72</td>\n",
       "      <td>72</td>\n",
       "      <td>74</td>\n",
       "    </tr>\n",
       "    <tr>\n",
       "      <th>1</th>\n",
       "      <td>female</td>\n",
       "      <td>group C</td>\n",
       "      <td>some college</td>\n",
       "      <td>standard</td>\n",
       "      <td>completed</td>\n",
       "      <td>69</td>\n",
       "      <td>90</td>\n",
       "      <td>88</td>\n",
       "    </tr>\n",
       "    <tr>\n",
       "      <th>2</th>\n",
       "      <td>female</td>\n",
       "      <td>group B</td>\n",
       "      <td>master's degree</td>\n",
       "      <td>standard</td>\n",
       "      <td>none</td>\n",
       "      <td>90</td>\n",
       "      <td>95</td>\n",
       "      <td>93</td>\n",
       "    </tr>\n",
       "    <tr>\n",
       "      <th>3</th>\n",
       "      <td>male</td>\n",
       "      <td>group A</td>\n",
       "      <td>associate's degree</td>\n",
       "      <td>free/reduced</td>\n",
       "      <td>none</td>\n",
       "      <td>47</td>\n",
       "      <td>57</td>\n",
       "      <td>44</td>\n",
       "    </tr>\n",
       "    <tr>\n",
       "      <th>4</th>\n",
       "      <td>male</td>\n",
       "      <td>group C</td>\n",
       "      <td>some college</td>\n",
       "      <td>standard</td>\n",
       "      <td>none</td>\n",
       "      <td>76</td>\n",
       "      <td>78</td>\n",
       "      <td>75</td>\n",
       "    </tr>\n",
       "  </tbody>\n",
       "</table>\n",
       "</div>"
      ],
      "text/plain": [
       "   gender race/ethnicity parental level of education         lunch  \\\n",
       "0  female        group B           bachelor's degree      standard   \n",
       "1  female        group C                some college      standard   \n",
       "2  female        group B             master's degree      standard   \n",
       "3    male        group A          associate's degree  free/reduced   \n",
       "4    male        group C                some college      standard   \n",
       "\n",
       "  test preparation course  math score  reading score  writing score  \n",
       "0                    none          72             72             74  \n",
       "1               completed          69             90             88  \n",
       "2                    none          90             95             93  \n",
       "3                    none          47             57             44  \n",
       "4                    none          76             78             75  "
      ]
     },
     "execution_count": 3,
     "metadata": {},
     "output_type": "execute_result"
    }
   ],
   "source": [
    "df.head()"
   ]
  },
  {
   "cell_type": "code",
   "execution_count": 4,
   "id": "c23856d3",
   "metadata": {
    "execution": {
     "iopub.execute_input": "2022-05-16T23:34:14.706819Z",
     "iopub.status.busy": "2022-05-16T23:34:14.706518Z",
     "iopub.status.idle": "2022-05-16T23:34:14.714189Z",
     "shell.execute_reply": "2022-05-16T23:34:14.713191Z"
    },
    "papermill": {
     "duration": 0.027476,
     "end_time": "2022-05-16T23:34:14.716065",
     "exception": false,
     "start_time": "2022-05-16T23:34:14.688589",
     "status": "completed"
    },
    "tags": []
   },
   "outputs": [
    {
     "data": {
      "text/plain": [
       "gender                         object\n",
       "race/ethnicity                 object\n",
       "parental level of education    object\n",
       "lunch                          object\n",
       "test preparation course        object\n",
       "math score                      int64\n",
       "reading score                   int64\n",
       "writing score                   int64\n",
       "dtype: object"
      ]
     },
     "execution_count": 4,
     "metadata": {},
     "output_type": "execute_result"
    }
   ],
   "source": [
    "df.dtypes"
   ]
  },
  {
   "cell_type": "code",
   "execution_count": 5,
   "id": "b55cf589",
   "metadata": {
    "execution": {
     "iopub.execute_input": "2022-05-16T23:34:14.751959Z",
     "iopub.status.busy": "2022-05-16T23:34:14.751254Z",
     "iopub.status.idle": "2022-05-16T23:34:14.782033Z",
     "shell.execute_reply": "2022-05-16T23:34:14.781493Z"
    },
    "papermill": {
     "duration": 0.050574,
     "end_time": "2022-05-16T23:34:14.783751",
     "exception": false,
     "start_time": "2022-05-16T23:34:14.733177",
     "status": "completed"
    },
    "tags": []
   },
   "outputs": [
    {
     "data": {
      "text/html": [
       "<div>\n",
       "<style scoped>\n",
       "    .dataframe tbody tr th:only-of-type {\n",
       "        vertical-align: middle;\n",
       "    }\n",
       "\n",
       "    .dataframe tbody tr th {\n",
       "        vertical-align: top;\n",
       "    }\n",
       "\n",
       "    .dataframe thead th {\n",
       "        text-align: right;\n",
       "    }\n",
       "</style>\n",
       "<table border=\"1\" class=\"dataframe\">\n",
       "  <thead>\n",
       "    <tr style=\"text-align: right;\">\n",
       "      <th></th>\n",
       "      <th>math score</th>\n",
       "      <th>reading score</th>\n",
       "      <th>writing score</th>\n",
       "    </tr>\n",
       "  </thead>\n",
       "  <tbody>\n",
       "    <tr>\n",
       "      <th>count</th>\n",
       "      <td>1000.00000</td>\n",
       "      <td>1000.000000</td>\n",
       "      <td>1000.000000</td>\n",
       "    </tr>\n",
       "    <tr>\n",
       "      <th>mean</th>\n",
       "      <td>66.08900</td>\n",
       "      <td>69.169000</td>\n",
       "      <td>68.054000</td>\n",
       "    </tr>\n",
       "    <tr>\n",
       "      <th>std</th>\n",
       "      <td>15.16308</td>\n",
       "      <td>14.600192</td>\n",
       "      <td>15.195657</td>\n",
       "    </tr>\n",
       "    <tr>\n",
       "      <th>min</th>\n",
       "      <td>0.00000</td>\n",
       "      <td>17.000000</td>\n",
       "      <td>10.000000</td>\n",
       "    </tr>\n",
       "    <tr>\n",
       "      <th>25%</th>\n",
       "      <td>57.00000</td>\n",
       "      <td>59.000000</td>\n",
       "      <td>57.750000</td>\n",
       "    </tr>\n",
       "    <tr>\n",
       "      <th>50%</th>\n",
       "      <td>66.00000</td>\n",
       "      <td>70.000000</td>\n",
       "      <td>69.000000</td>\n",
       "    </tr>\n",
       "    <tr>\n",
       "      <th>75%</th>\n",
       "      <td>77.00000</td>\n",
       "      <td>79.000000</td>\n",
       "      <td>79.000000</td>\n",
       "    </tr>\n",
       "    <tr>\n",
       "      <th>max</th>\n",
       "      <td>100.00000</td>\n",
       "      <td>100.000000</td>\n",
       "      <td>100.000000</td>\n",
       "    </tr>\n",
       "  </tbody>\n",
       "</table>\n",
       "</div>"
      ],
      "text/plain": [
       "       math score  reading score  writing score\n",
       "count  1000.00000    1000.000000    1000.000000\n",
       "mean     66.08900      69.169000      68.054000\n",
       "std      15.16308      14.600192      15.195657\n",
       "min       0.00000      17.000000      10.000000\n",
       "25%      57.00000      59.000000      57.750000\n",
       "50%      66.00000      70.000000      69.000000\n",
       "75%      77.00000      79.000000      79.000000\n",
       "max     100.00000     100.000000     100.000000"
      ]
     },
     "execution_count": 5,
     "metadata": {},
     "output_type": "execute_result"
    }
   ],
   "source": [
    "df.describe()"
   ]
  },
  {
   "cell_type": "code",
   "execution_count": 6,
   "id": "3bebf9c6",
   "metadata": {
    "execution": {
     "iopub.execute_input": "2022-05-16T23:34:14.820721Z",
     "iopub.status.busy": "2022-05-16T23:34:14.820062Z",
     "iopub.status.idle": "2022-05-16T23:34:14.829400Z",
     "shell.execute_reply": "2022-05-16T23:34:14.828643Z"
    },
    "papermill": {
     "duration": 0.029909,
     "end_time": "2022-05-16T23:34:14.831301",
     "exception": false,
     "start_time": "2022-05-16T23:34:14.801392",
     "status": "completed"
    },
    "tags": []
   },
   "outputs": [
    {
     "data": {
      "text/plain": [
       "gender                         0\n",
       "race/ethnicity                 0\n",
       "parental level of education    0\n",
       "lunch                          0\n",
       "test preparation course        0\n",
       "math score                     0\n",
       "reading score                  0\n",
       "writing score                  0\n",
       "dtype: int64"
      ]
     },
     "execution_count": 6,
     "metadata": {},
     "output_type": "execute_result"
    }
   ],
   "source": [
    "# Identifying if the dataset has null values\n",
    "\n",
    "df.isnull().sum()\n",
    "\n",
    "# Looks like our dataset has all rows duly filled."
   ]
  },
  {
   "cell_type": "markdown",
   "id": "b1dc60d9",
   "metadata": {
    "papermill": {
     "duration": 0.017595,
     "end_time": "2022-05-16T23:34:14.866849",
     "exception": false,
     "start_time": "2022-05-16T23:34:14.849254",
     "status": "completed"
    },
    "tags": []
   },
   "source": [
    "# Distribution of the grades"
   ]
  },
  {
   "cell_type": "code",
   "execution_count": 7,
   "id": "c8377983",
   "metadata": {
    "execution": {
     "iopub.execute_input": "2022-05-16T23:34:14.904696Z",
     "iopub.status.busy": "2022-05-16T23:34:14.904242Z",
     "iopub.status.idle": "2022-05-16T23:34:15.096969Z",
     "shell.execute_reply": "2022-05-16T23:34:15.096384Z"
    },
    "papermill": {
     "duration": 0.214023,
     "end_time": "2022-05-16T23:34:15.099046",
     "exception": false,
     "start_time": "2022-05-16T23:34:14.885023",
     "status": "completed"
    },
    "tags": []
   },
   "outputs": [
    {
     "data": {
      "text/plain": [
       "<AxesSubplot:ylabel='math score'>"
      ]
     },
     "execution_count": 7,
     "metadata": {},
     "output_type": "execute_result"
    },
    {
     "data": {
      "image/png": "[encoded data removed]",
      "text/plain": [
       "<Figure size 216x360 with 1 Axes>"
      ]
     },
     "metadata": {},
     "output_type": "display_data"
    }
   ],
   "source": [
    "#Distribution for math score\n",
    "\n",
    "sns.set_theme(style=\"ticks\", palette=\"pastel\")\n",
    "\n",
    "sns.set(rc={\"figure.figsize\":(3, 5)}) #width=3, #height=5\n",
    "\n",
    "sns.boxplot(y=\"math score\",\n",
    "            palette=[\"m\", \"g\"],\n",
    "            data=df)\n",
    "\n"
   ]
  },
  {
   "cell_type": "code",
   "execution_count": 8,
   "id": "2d5563dd",
   "metadata": {
    "execution": {
     "iopub.execute_input": "2022-05-16T23:34:15.139086Z",
     "iopub.status.busy": "2022-05-16T23:34:15.138788Z",
     "iopub.status.idle": "2022-05-16T23:34:15.299159Z",
     "shell.execute_reply": "2022-05-16T23:34:15.298262Z"
    },
    "papermill": {
     "duration": 0.183002,
     "end_time": "2022-05-16T23:34:15.301246",
     "exception": false,
     "start_time": "2022-05-16T23:34:15.118244",
     "status": "completed"
    },
    "tags": []
   },
   "outputs": [
    {
     "data": {
      "text/plain": [
       "<AxesSubplot:ylabel='reading score'>"
      ]
     },
     "execution_count": 8,
     "metadata": {},
     "output_type": "execute_result"
    },
    {
     "data": {
      "image/png": "[encoded data removed]",
      "text/plain": [
       "<Figure size 216x360 with 1 Axes>"
      ]
     },
     "metadata": {},
     "output_type": "display_data"
    }
   ],
   "source": [
    "# Distribution for reading score \n",
    "\n",
    "\n",
    "sns.set_theme(style=\"ticks\", palette=\"pastel\")\n",
    "\n",
    "sns.set(rc={\"figure.figsize\":(3, 5)}) #width=3, #height=5\n",
    "\n",
    "sns.boxplot(y=\"reading score\",\n",
    "            palette=[\"m\", \"g\"],\n",
    "            data=df)\n"
   ]
  },
  {
   "cell_type": "code",
   "execution_count": 9,
   "id": "ef906af3",
   "metadata": {
    "execution": {
     "iopub.execute_input": "2022-05-16T23:34:15.343885Z",
     "iopub.status.busy": "2022-05-16T23:34:15.343286Z",
     "iopub.status.idle": "2022-05-16T23:34:15.498099Z",
     "shell.execute_reply": "2022-05-16T23:34:15.497210Z"
    },
    "papermill": {
     "duration": 0.178837,
     "end_time": "2022-05-16T23:34:15.500400",
     "exception": false,
     "start_time": "2022-05-16T23:34:15.321563",
     "status": "completed"
    },
    "tags": []
   },
   "outputs": [
    {
     "data": {
      "text/plain": [
       "<AxesSubplot:ylabel='writing score'>"
      ]
     },
     "execution_count": 9,
     "metadata": {},
     "output_type": "execute_result"
    },
    {
     "data": {
      "image/png": "[encoded data removed]",
      "text/plain": [
       "<Figure size 216x360 with 1 Axes>"
      ]
     },
     "metadata": {},
     "output_type": "display_data"
    }
   ],
   "source": [
    "# Distribution for writing score \n",
    "\n",
    "\n",
    "sns.set_theme(style=\"ticks\", palette=\"pastel\")\n",
    "\n",
    "sns.set(rc={\"figure.figsize\":(3, 5)}) #width=3, #height=5\n",
    "\n",
    "sns.boxplot(y=\"writing score\",\n",
    "            palette=[\"m\", \"g\"],\n",
    "            data=df)\n"
   ]
  },
  {
   "cell_type": "markdown",
   "id": "482b2b69",
   "metadata": {
    "papermill": {
     "duration": 0.021279,
     "end_time": "2022-05-16T23:34:15.543176",
     "exception": false,
     "start_time": "2022-05-16T23:34:15.521897",
     "status": "completed"
    },
    "tags": []
   },
   "source": [
    "With the df.describe() method and the bloxplots here plotted one can see that the distribution is very similar to each matter."
   ]
  },
  {
   "cell_type": "markdown",
   "id": "7c916815",
   "metadata": {
    "papermill": {
     "duration": 0.020816,
     "end_time": "2022-05-16T23:34:15.586965",
     "exception": false,
     "start_time": "2022-05-16T23:34:15.566149",
     "status": "completed"
    },
    "tags": []
   },
   "source": [
    "# Correlation"
   ]
  },
  {
   "cell_type": "code",
   "execution_count": 10,
   "id": "0ac7b1ce",
   "metadata": {
    "execution": {
     "iopub.execute_input": "2022-05-16T23:34:15.631318Z",
     "iopub.status.busy": "2022-05-16T23:34:15.630737Z",
     "iopub.status.idle": "2022-05-16T23:34:15.711643Z",
     "shell.execute_reply": "2022-05-16T23:34:15.710797Z"
    },
    "papermill": {
     "duration": 0.105575,
     "end_time": "2022-05-16T23:34:15.713870",
     "exception": false,
     "start_time": "2022-05-16T23:34:15.608295",
     "status": "completed"
    },
    "tags": []
   },
   "outputs": [
    {
     "data": {
      "text/html": [
       "<style type=\"text/css\">\n",
       "#T_a770e_row0_col0, #T_a770e_row1_col1, #T_a770e_row2_col2 {\n",
       "  background-color: #08306b;\n",
       "  color: #f1f1f1;\n",
       "}\n",
       "#T_a770e_row0_col1, #T_a770e_row0_col2, #T_a770e_row2_col0 {\n",
       "  background-color: #f7fbff;\n",
       "  color: #000000;\n",
       "}\n",
       "#T_a770e_row1_col0 {\n",
       "  background-color: #e8f1fa;\n",
       "  color: #000000;\n",
       "}\n",
       "#T_a770e_row1_col2 {\n",
       "  background-color: #1c6bb0;\n",
       "  color: #f1f1f1;\n",
       "}\n",
       "#T_a770e_row2_col1 {\n",
       "  background-color: #2070b4;\n",
       "  color: #f1f1f1;\n",
       "}\n",
       "</style>\n",
       "<table id=\"T_a770e_\">\n",
       "  <thead>\n",
       "    <tr>\n",
       "      <th class=\"blank level0\" >&nbsp;</th>\n",
       "      <th class=\"col_heading level0 col0\" >math score</th>\n",
       "      <th class=\"col_heading level0 col1\" >reading score</th>\n",
       "      <th class=\"col_heading level0 col2\" >writing score</th>\n",
       "    </tr>\n",
       "  </thead>\n",
       "  <tbody>\n",
       "    <tr>\n",
       "      <th id=\"T_a770e_level0_row0\" class=\"row_heading level0 row0\" >math score</th>\n",
       "      <td id=\"T_a770e_row0_col0\" class=\"data row0 col0\" >1.000000</td>\n",
       "      <td id=\"T_a770e_row0_col1\" class=\"data row0 col1\" >0.817580</td>\n",
       "      <td id=\"T_a770e_row0_col2\" class=\"data row0 col2\" >0.802642</td>\n",
       "    </tr>\n",
       "    <tr>\n",
       "      <th id=\"T_a770e_level0_row1\" class=\"row_heading level0 row1\" >reading score</th>\n",
       "      <td id=\"T_a770e_row1_col0\" class=\"data row1 col0\" >0.817580</td>\n",
       "      <td id=\"T_a770e_row1_col1\" class=\"data row1 col1\" >1.000000</td>\n",
       "      <td id=\"T_a770e_row1_col2\" class=\"data row1 col2\" >0.954598</td>\n",
       "    </tr>\n",
       "    <tr>\n",
       "      <th id=\"T_a770e_level0_row2\" class=\"row_heading level0 row2\" >writing score</th>\n",
       "      <td id=\"T_a770e_row2_col0\" class=\"data row2 col0\" >0.802642</td>\n",
       "      <td id=\"T_a770e_row2_col1\" class=\"data row2 col1\" >0.954598</td>\n",
       "      <td id=\"T_a770e_row2_col2\" class=\"data row2 col2\" >1.000000</td>\n",
       "    </tr>\n",
       "  </tbody>\n",
       "</table>\n"
      ],
      "text/plain": [
       "<pandas.io.formats.style.Styler at 0x7f699ad10510>"
      ]
     },
     "execution_count": 10,
     "metadata": {},
     "output_type": "execute_result"
    }
   ],
   "source": [
    "df.corr().style.background_gradient(cmap=\"Blues\")"
   ]
  },
  {
   "cell_type": "markdown",
   "id": "8d5a558b",
   "metadata": {
    "papermill": {
     "duration": 0.021326,
     "end_time": "2022-05-16T23:34:15.757181",
     "exception": false,
     "start_time": "2022-05-16T23:34:15.735855",
     "status": "completed"
    },
    "tags": []
   },
   "source": [
    "We can see that there is a good positive correlation among the variables."
   ]
  },
  {
   "cell_type": "markdown",
   "id": "81c998f2",
   "metadata": {
    "papermill": {
     "duration": 0.021345,
     "end_time": "2022-05-16T23:34:15.800228",
     "exception": false,
     "start_time": "2022-05-16T23:34:15.778883",
     "status": "completed"
    },
    "tags": []
   },
   "source": [
    "# How's the proportion between men and women?"
   ]
  },
  {
   "cell_type": "code",
   "execution_count": 11,
   "id": "8484acbd",
   "metadata": {
    "execution": {
     "iopub.execute_input": "2022-05-16T23:34:15.845786Z",
     "iopub.status.busy": "2022-05-16T23:34:15.845226Z",
     "iopub.status.idle": "2022-05-16T23:34:15.854294Z",
     "shell.execute_reply": "2022-05-16T23:34:15.853382Z"
    },
    "papermill": {
     "duration": 0.034377,
     "end_time": "2022-05-16T23:34:15.856423",
     "exception": false,
     "start_time": "2022-05-16T23:34:15.822046",
     "status": "completed"
    },
    "tags": []
   },
   "outputs": [
    {
     "data": {
      "text/plain": [
       "female    0.518\n",
       "male      0.482\n",
       "Name: gender, dtype: float64"
      ]
     },
     "execution_count": 11,
     "metadata": {},
     "output_type": "execute_result"
    }
   ],
   "source": [
    "df['gender'].value_counts('gender')"
   ]
  }
 ],
 "metadata": {
  "kernelspec": {
   "display_name": "Python 3",
   "language": "python",
   "name": "python3"
  },
  "language_info": {
   "codemirror_mode": {
    "name": "ipython",
    "version": 3
   },
   "file_extension": ".py",
   "mimetype": "text/x-python",
   "name": "python",
   "nbconvert_exporter": "python",
   "pygments_lexer": "ipython3",
   "version": "3.7.12"
  },
  "papermill": {
   "default_parameters": {},
   "duration": 13.185868,
   "end_time": "2022-05-16T23:34:16.600366",
   "environment_variables": {},
   "exception": null,
   "input_path": "__notebook__.ipynb",
   "output_path": "__notebook__.ipynb",
   "parameters": {},
   "start_time": "2022-05-16T23:34:03.414498",
   "version": "2.3.4"
  }
 },
 "nbformat": 4,
 "nbformat_minor": 5
}
