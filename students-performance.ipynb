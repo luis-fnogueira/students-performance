{
 "cells": [
  {
   "cell_type": "code",
   "execution_count": 1,
   "id": "2860a83d",
   "metadata": {
    "_cell_guid": "b1076dfc-b9ad-4769-8c92-a6c4dae69d19",
    "_uuid": "8f2839f25d086af736a60e9eeb907d3b93b6e0e5",
    "execution": {
     "iopub.execute_input": "2022-05-17T23:08:10.913349Z",
     "iopub.status.busy": "2022-05-17T23:08:10.913010Z",
     "iopub.status.idle": "2022-05-17T23:08:12.042560Z",
     "shell.execute_reply": "2022-05-17T23:08:12.041630Z"
    },
    "papermill": {
     "duration": 1.15543,
     "end_time": "2022-05-17T23:08:12.045257",
     "exception": false,
     "start_time": "2022-05-17T23:08:10.889827",
     "status": "completed"
    },
    "tags": []
   },
   "outputs": [
    {
     "name": "stdout",
     "output_type": "stream",
     "text": [
      "/kaggle/input/students-performance-in-exams/StudentsPerformance.csv\n"
     ]
    }
   ],
   "source": [
    "# This Python 3 environment comes with many helpful analytics libraries installed\n",
    "# It is defined by the kaggle/python Docker image: https://github.com/kaggle/docker-python\n",
    "# For example, here's several helpful packages to load\n",
    "\n",
    "import numpy as np # linear algebra\n",
    "import pandas as pd # data processing, CSV file I/O (e.g. pd.read_csv)\n",
    "import seaborn as sns\n",
    "import matplotlib.pyplot as plt\n",
    "\n",
    "# Input data files are available in the read-only \"../input/\" directory\n",
    "# For example, running this (by clicking run or pressing Shift+Enter) will list all files under the input directory\n",
    "\n",
    "import os\n",
    "for dirname, _, filenames in os.walk('/kaggle/input'):\n",
    "    for filename in filenames:\n",
    "        print(os.path.join(dirname, filename))\n",
    "\n",
    "# You can write up to 20GB to the current directory (/kaggle/working/) that gets preserved as output when you create a version using \"Save & Run All\" \n",
    "# You can also write temporary files to /kaggle/temp/, but they won't be saved outside of the current session"
   ]
  },
  {
   "cell_type": "code",
   "execution_count": 2,
   "id": "11d644d5",
   "metadata": {
    "execution": {
     "iopub.execute_input": "2022-05-17T23:08:12.087848Z",
     "iopub.status.busy": "2022-05-17T23:08:12.087557Z",
     "iopub.status.idle": "2022-05-17T23:08:12.103878Z",
     "shell.execute_reply": "2022-05-17T23:08:12.103107Z"
    },
    "papermill": {
     "duration": 0.039646,
     "end_time": "2022-05-17T23:08:12.105908",
     "exception": false,
     "start_time": "2022-05-17T23:08:12.066262",
     "status": "completed"
    },
    "tags": []
   },
   "outputs": [],
   "source": [
    "df = pd.read_csv('/kaggle/input/students-performance-in-exams/StudentsPerformance.csv')"
   ]
  },
  {
   "cell_type": "markdown",
   "id": "5ae7d596",
   "metadata": {
    "papermill": {
     "duration": 0.0197,
     "end_time": "2022-05-17T23:08:12.146119",
     "exception": false,
     "start_time": "2022-05-17T23:08:12.126419",
     "status": "completed"
    },
    "tags": []
   },
   "source": [
    "### First glances on the dataset"
   ]
  },
  {
   "cell_type": "code",
   "execution_count": 3,
   "id": "c6340ebd",
   "metadata": {
    "execution": {
     "iopub.execute_input": "2022-05-17T23:08:12.187883Z",
     "iopub.status.busy": "2022-05-17T23:08:12.187415Z",
     "iopub.status.idle": "2022-05-17T23:08:12.207646Z",
     "shell.execute_reply": "2022-05-17T23:08:12.206776Z"
    },
    "papermill": {
     "duration": 0.043949,
     "end_time": "2022-05-17T23:08:12.210003",
     "exception": false,
     "start_time": "2022-05-17T23:08:12.166054",
     "status": "completed"
    },
    "tags": []
   },
   "outputs": [
    {
     "data": {
      "text/html": [
       "<div>\n",
       "<style scoped>\n",
       "    .dataframe tbody tr th:only-of-type {\n",
       "        vertical-align: middle;\n",
       "    }\n",
       "\n",
       "    .dataframe tbody tr th {\n",
       "        vertical-align: top;\n",
       "    }\n",
       "\n",
       "    .dataframe thead th {\n",
       "        text-align: right;\n",
       "    }\n",
       "</style>\n",
       "<table border=\"1\" class=\"dataframe\">\n",
       "  <thead>\n",
       "    <tr style=\"text-align: right;\">\n",
       "      <th></th>\n",
       "      <th>gender</th>\n",
       "      <th>race/ethnicity</th>\n",
       "      <th>parental level of education</th>\n",
       "      <th>lunch</th>\n",
       "      <th>test preparation course</th>\n",
       "      <th>math score</th>\n",
       "      <th>reading score</th>\n",
       "      <th>writing score</th>\n",
       "    </tr>\n",
       "  </thead>\n",
       "  <tbody>\n",
       "    <tr>\n",
       "      <th>0</th>\n",
       "      <td>female</td>\n",
       "      <td>group B</td>\n",
       "      <td>bachelor's degree</td>\n",
       "      <td>standard</td>\n",
       "      <td>none</td>\n",
       "      <td>72</td>\n",
       "      <td>72</td>\n",
       "      <td>74</td>\n",
       "    </tr>\n",
       "    <tr>\n",
       "      <th>1</th>\n",
       "      <td>female</td>\n",
       "      <td>group C</td>\n",
       "      <td>some college</td>\n",
       "      <td>standard</td>\n",
       "      <td>completed</td>\n",
       "      <td>69</td>\n",
       "      <td>90</td>\n",
       "      <td>88</td>\n",
       "    </tr>\n",
       "    <tr>\n",
       "      <th>2</th>\n",
       "      <td>female</td>\n",
       "      <td>group B</td>\n",
       "      <td>master's degree</td>\n",
       "      <td>standard</td>\n",
       "      <td>none</td>\n",
       "      <td>90</td>\n",
       "      <td>95</td>\n",
       "      <td>93</td>\n",
       "    </tr>\n",
       "    <tr>\n",
       "      <th>3</th>\n",
       "      <td>male</td>\n",
       "      <td>group A</td>\n",
       "      <td>associate's degree</td>\n",
       "      <td>free/reduced</td>\n",
       "      <td>none</td>\n",
       "      <td>47</td>\n",
       "      <td>57</td>\n",
       "      <td>44</td>\n",
       "    </tr>\n",
       "    <tr>\n",
       "      <th>4</th>\n",
       "      <td>male</td>\n",
       "      <td>group C</td>\n",
       "      <td>some college</td>\n",
       "      <td>standard</td>\n",
       "      <td>none</td>\n",
       "      <td>76</td>\n",
       "      <td>78</td>\n",
       "      <td>75</td>\n",
       "    </tr>\n",
       "  </tbody>\n",
       "</table>\n",
       "</div>"
      ],
      "text/plain": [
       "   gender race/ethnicity parental level of education         lunch  \\\n",
       "0  female        group B           bachelor's degree      standard   \n",
       "1  female        group C                some college      standard   \n",
       "2  female        group B             master's degree      standard   \n",
       "3    male        group A          associate's degree  free/reduced   \n",
       "4    male        group C                some college      standard   \n",
       "\n",
       "  test preparation course  math score  reading score  writing score  \n",
       "0                    none          72             72             74  \n",
       "1               completed          69             90             88  \n",
       "2                    none          90             95             93  \n",
       "3                    none          47             57             44  \n",
       "4                    none          76             78             75  "
      ]
     },
     "execution_count": 3,
     "metadata": {},
     "output_type": "execute_result"
    }
   ],
   "source": [
    "df.head()"
   ]
  },
  {
   "cell_type": "code",
   "execution_count": 4,
   "id": "00e08507",
   "metadata": {
    "execution": {
     "iopub.execute_input": "2022-05-17T23:08:12.253922Z",
     "iopub.status.busy": "2022-05-17T23:08:12.253627Z",
     "iopub.status.idle": "2022-05-17T23:08:12.260176Z",
     "shell.execute_reply": "2022-05-17T23:08:12.259618Z"
    },
    "papermill": {
     "duration": 0.031108,
     "end_time": "2022-05-17T23:08:12.262266",
     "exception": false,
     "start_time": "2022-05-17T23:08:12.231158",
     "status": "completed"
    },
    "tags": []
   },
   "outputs": [
    {
     "data": {
      "text/plain": [
       "gender                         object\n",
       "race/ethnicity                 object\n",
       "parental level of education    object\n",
       "lunch                          object\n",
       "test preparation course        object\n",
       "math score                      int64\n",
       "reading score                   int64\n",
       "writing score                   int64\n",
       "dtype: object"
      ]
     },
     "execution_count": 4,
     "metadata": {},
     "output_type": "execute_result"
    }
   ],
   "source": [
    "df.dtypes"
   ]
  },
  {
   "cell_type": "code",
   "execution_count": 5,
   "id": "b19b9c00",
   "metadata": {
    "execution": {
     "iopub.execute_input": "2022-05-17T23:08:12.305445Z",
     "iopub.status.busy": "2022-05-17T23:08:12.304996Z",
     "iopub.status.idle": "2022-05-17T23:08:12.334379Z",
     "shell.execute_reply": "2022-05-17T23:08:12.333492Z"
    },
    "papermill": {
     "duration": 0.053379,
     "end_time": "2022-05-17T23:08:12.336424",
     "exception": false,
     "start_time": "2022-05-17T23:08:12.283045",
     "status": "completed"
    },
    "tags": []
   },
   "outputs": [
    {
     "data": {
      "text/html": [
       "<div>\n",
       "<style scoped>\n",
       "    .dataframe tbody tr th:only-of-type {\n",
       "        vertical-align: middle;\n",
       "    }\n",
       "\n",
       "    .dataframe tbody tr th {\n",
       "        vertical-align: top;\n",
       "    }\n",
       "\n",
       "    .dataframe thead th {\n",
       "        text-align: right;\n",
       "    }\n",
       "</style>\n",
       "<table border=\"1\" class=\"dataframe\">\n",
       "  <thead>\n",
       "    <tr style=\"text-align: right;\">\n",
       "      <th></th>\n",
       "      <th>math score</th>\n",
       "      <th>reading score</th>\n",
       "      <th>writing score</th>\n",
       "    </tr>\n",
       "  </thead>\n",
       "  <tbody>\n",
       "    <tr>\n",
       "      <th>count</th>\n",
       "      <td>1000.00000</td>\n",
       "      <td>1000.000000</td>\n",
       "      <td>1000.000000</td>\n",
       "    </tr>\n",
       "    <tr>\n",
       "      <th>mean</th>\n",
       "      <td>66.08900</td>\n",
       "      <td>69.169000</td>\n",
       "      <td>68.054000</td>\n",
       "    </tr>\n",
       "    <tr>\n",
       "      <th>std</th>\n",
       "      <td>15.16308</td>\n",
       "      <td>14.600192</td>\n",
       "      <td>15.195657</td>\n",
       "    </tr>\n",
       "    <tr>\n",
       "      <th>min</th>\n",
       "      <td>0.00000</td>\n",
       "      <td>17.000000</td>\n",
       "      <td>10.000000</td>\n",
       "    </tr>\n",
       "    <tr>\n",
       "      <th>25%</th>\n",
       "      <td>57.00000</td>\n",
       "      <td>59.000000</td>\n",
       "      <td>57.750000</td>\n",
       "    </tr>\n",
       "    <tr>\n",
       "      <th>50%</th>\n",
       "      <td>66.00000</td>\n",
       "      <td>70.000000</td>\n",
       "      <td>69.000000</td>\n",
       "    </tr>\n",
       "    <tr>\n",
       "      <th>75%</th>\n",
       "      <td>77.00000</td>\n",
       "      <td>79.000000</td>\n",
       "      <td>79.000000</td>\n",
       "    </tr>\n",
       "    <tr>\n",
       "      <th>max</th>\n",
       "      <td>100.00000</td>\n",
       "      <td>100.000000</td>\n",
       "      <td>100.000000</td>\n",
       "    </tr>\n",
       "  </tbody>\n",
       "</table>\n",
       "</div>"
      ],
      "text/plain": [
       "       math score  reading score  writing score\n",
       "count  1000.00000    1000.000000    1000.000000\n",
       "mean     66.08900      69.169000      68.054000\n",
       "std      15.16308      14.600192      15.195657\n",
       "min       0.00000      17.000000      10.000000\n",
       "25%      57.00000      59.000000      57.750000\n",
       "50%      66.00000      70.000000      69.000000\n",
       "75%      77.00000      79.000000      79.000000\n",
       "max     100.00000     100.000000     100.000000"
      ]
     },
     "execution_count": 5,
     "metadata": {},
     "output_type": "execute_result"
    }
   ],
   "source": [
    "df.describe()"
   ]
  },
  {
   "cell_type": "code",
   "execution_count": 6,
   "id": "ef0ae287",
   "metadata": {
    "execution": {
     "iopub.execute_input": "2022-05-17T23:08:12.380493Z",
     "iopub.status.busy": "2022-05-17T23:08:12.380216Z",
     "iopub.status.idle": "2022-05-17T23:08:12.388378Z",
     "shell.execute_reply": "2022-05-17T23:08:12.387574Z"
    },
    "papermill": {
     "duration": 0.032859,
     "end_time": "2022-05-17T23:08:12.390584",
     "exception": false,
     "start_time": "2022-05-17T23:08:12.357725",
     "status": "completed"
    },
    "tags": []
   },
   "outputs": [
    {
     "data": {
      "text/plain": [
       "gender                         0\n",
       "race/ethnicity                 0\n",
       "parental level of education    0\n",
       "lunch                          0\n",
       "test preparation course        0\n",
       "math score                     0\n",
       "reading score                  0\n",
       "writing score                  0\n",
       "dtype: int64"
      ]
     },
     "execution_count": 6,
     "metadata": {},
     "output_type": "execute_result"
    }
   ],
   "source": [
    "# Identifying if the dataset has null values\n",
    "\n",
    "df.isnull().sum()\n",
    "\n",
    "# Looks like our dataset has all rows duly filled."
   ]
  },
  {
   "cell_type": "markdown",
   "id": "ede819df",
   "metadata": {
    "papermill": {
     "duration": 0.021609,
     "end_time": "2022-05-17T23:08:12.433655",
     "exception": false,
     "start_time": "2022-05-17T23:08:12.412046",
     "status": "completed"
    },
    "tags": []
   },
   "source": [
    "# Distribution of the grades"
   ]
  },
  {
   "cell_type": "code",
   "execution_count": 7,
   "id": "c64384f2",
   "metadata": {
    "execution": {
     "iopub.execute_input": "2022-05-17T23:08:12.480726Z",
     "iopub.status.busy": "2022-05-17T23:08:12.480048Z",
     "iopub.status.idle": "2022-05-17T23:08:12.635530Z",
     "shell.execute_reply": "2022-05-17T23:08:12.634640Z"
    },
    "papermill": {
     "duration": 0.181492,
     "end_time": "2022-05-17T23:08:12.638626",
     "exception": false,
     "start_time": "2022-05-17T23:08:12.457134",
     "status": "completed"
    },
    "tags": []
   },
   "outputs": [
    {
     "data": {
      "text/plain": [
       "<AxesSubplot:ylabel='math score'>"
      ]
     },
     "execution_count": 7,
     "metadata": {},
     "output_type": "execute_result"
    },
    {
     "data": {
      "image/png": "[encoded data removed]",
      "text/plain": [
       "<Figure size 216x360 with 1 Axes>"
      ]
     },
     "metadata": {},
     "output_type": "display_data"
    }
   ],
   "source": [
    "#Distribution for math score\n",
    "\n",
    "sns.set_theme(style=\"ticks\", palette=\"pastel\")\n",
    "\n",
    "sns.set(rc={\"figure.figsize\":(3, 5)}) #width=3, #height=5\n",
    "\n",
    "sns.boxplot(y=\"math score\",\n",
    "            palette=[\"m\", \"g\"],\n",
    "            data=df)\n",
    "\n"
   ]
  },
  {
   "cell_type": "code",
   "execution_count": 8,
   "id": "ecad484b",
   "metadata": {
    "execution": {
     "iopub.execute_input": "2022-05-17T23:08:12.691721Z",
     "iopub.status.busy": "2022-05-17T23:08:12.690995Z",
     "iopub.status.idle": "2022-05-17T23:08:12.845258Z",
     "shell.execute_reply": "2022-05-17T23:08:12.843229Z"
    },
    "papermill": {
     "duration": 0.18088,
     "end_time": "2022-05-17T23:08:12.847989",
     "exception": false,
     "start_time": "2022-05-17T23:08:12.667109",
     "status": "completed"
    },
    "tags": []
   },
   "outputs": [
    {
     "data": {
      "text/plain": [
       "<AxesSubplot:ylabel='reading score'>"
      ]
     },
     "execution_count": 8,
     "metadata": {},
     "output_type": "execute_result"
    },
    {
     "data": {
      "image/png": "[encoded data removed]",
      "text/plain": [
       "<Figure size 216x360 with 1 Axes>"
      ]
     },
     "metadata": {},
     "output_type": "display_data"
    }
   ],
   "source": [
    "# Distribution for reading score \n",
    "\n",
    "\n",
    "sns.set_theme(style=\"ticks\", palette=\"pastel\")\n",
    "\n",
    "sns.set(rc={\"figure.figsize\":(3, 5)}) #width=3, #height=5\n",
    "\n",
    "sns.boxplot(y=\"reading score\",\n",
    "            palette=[\"m\", \"g\"],\n",
    "            data=df)\n"
   ]
  },
  {
   "cell_type": "code",
   "execution_count": 9,
   "id": "f9cf1bf6",
   "metadata": {
    "execution": {
     "iopub.execute_input": "2022-05-17T23:08:12.900289Z",
     "iopub.status.busy": "2022-05-17T23:08:12.899784Z",
     "iopub.status.idle": "2022-05-17T23:08:13.061711Z",
     "shell.execute_reply": "2022-05-17T23:08:13.060804Z"
    },
    "papermill": {
     "duration": 0.189978,
     "end_time": "2022-05-17T23:08:13.064012",
     "exception": false,
     "start_time": "2022-05-17T23:08:12.874034",
     "status": "completed"
    },
    "tags": []
   },
   "outputs": [
    {
     "data": {
      "text/plain": [
       "<AxesSubplot:ylabel='writing score'>"
      ]
     },
     "execution_count": 9,
     "metadata": {},
     "output_type": "execute_result"
    },
    {
     "data": {
      "image/png": "[encoded data removed]",
      "text/plain": [
       "<Figure size 216x360 with 1 Axes>"
      ]
     },
     "metadata": {},
     "output_type": "display_data"
    }
   ],
   "source": [
    "# Distribution for writing score \n",
    "\n",
    "\n",
    "sns.set_theme(style=\"ticks\", palette=\"pastel\")\n",
    "\n",
    "sns.set(rc={\"figure.figsize\":(3, 5)}) #width=3, #height=5\n",
    "\n",
    "sns.boxplot(y=\"writing score\",\n",
    "            palette=[\"m\", \"g\"],\n",
    "            data=df)\n"
   ]
  },
  {
   "cell_type": "markdown",
   "id": "4ef2ab5b",
   "metadata": {
    "papermill": {
     "duration": 0.026048,
     "end_time": "2022-05-17T23:08:13.116432",
     "exception": false,
     "start_time": "2022-05-17T23:08:13.090384",
     "status": "completed"
    },
    "tags": []
   },
   "source": [
    "With the df.describe() method and the bloxplots here plotted one can see that the distribution is very similar to each matter."
   ]
  },
  {
   "cell_type": "markdown",
   "id": "269a3566",
   "metadata": {
    "papermill": {
     "duration": 0.025199,
     "end_time": "2022-05-17T23:08:13.167581",
     "exception": false,
     "start_time": "2022-05-17T23:08:13.142382",
     "status": "completed"
    },
    "tags": []
   },
   "source": [
    "# Correlation"
   ]
  },
  {
   "cell_type": "code",
   "execution_count": 10,
   "id": "a725e251",
   "metadata": {
    "execution": {
     "iopub.execute_input": "2022-05-17T23:08:13.220036Z",
     "iopub.status.busy": "2022-05-17T23:08:13.219735Z",
     "iopub.status.idle": "2022-05-17T23:08:13.297391Z",
     "shell.execute_reply": "2022-05-17T23:08:13.296537Z"
    },
    "papermill": {
     "duration": 0.106257,
     "end_time": "2022-05-17T23:08:13.299284",
     "exception": false,
     "start_time": "2022-05-17T23:08:13.193027",
     "status": "completed"
    },
    "tags": []
   },
   "outputs": [
    {
     "data": {
      "text/html": [
       "<style type=\"text/css\">\n",
       "#T_75d38_row0_col0, #T_75d38_row1_col1, #T_75d38_row2_col2 {\n",
       "  background-color: #08306b;\n",
       "  color: #f1f1f1;\n",
       "}\n",
       "#T_75d38_row0_col1, #T_75d38_row0_col2, #T_75d38_row2_col0 {\n",
       "  background-color: #f7fbff;\n",
       "  color: #000000;\n",
       "}\n",
       "#T_75d38_row1_col0 {\n",
       "  background-color: #e8f1fa;\n",
       "  color: #000000;\n",
       "}\n",
       "#T_75d38_row1_col2 {\n",
       "  background-color: #1c6bb0;\n",
       "  color: #f1f1f1;\n",
       "}\n",
       "#T_75d38_row2_col1 {\n",
       "  background-color: #2070b4;\n",
       "  color: #f1f1f1;\n",
       "}\n",
       "</style>\n",
       "<table id=\"T_75d38_\">\n",
       "  <thead>\n",
       "    <tr>\n",
       "      <th class=\"blank level0\" >&nbsp;</th>\n",
       "      <th class=\"col_heading level0 col0\" >math score</th>\n",
       "      <th class=\"col_heading level0 col1\" >reading score</th>\n",
       "      <th class=\"col_heading level0 col2\" >writing score</th>\n",
       "    </tr>\n",
       "  </thead>\n",
       "  <tbody>\n",
       "    <tr>\n",
       "      <th id=\"T_75d38_level0_row0\" class=\"row_heading level0 row0\" >math score</th>\n",
       "      <td id=\"T_75d38_row0_col0\" class=\"data row0 col0\" >1.000000</td>\n",
       "      <td id=\"T_75d38_row0_col1\" class=\"data row0 col1\" >0.817580</td>\n",
       "      <td id=\"T_75d38_row0_col2\" class=\"data row0 col2\" >0.802642</td>\n",
       "    </tr>\n",
       "    <tr>\n",
       "      <th id=\"T_75d38_level0_row1\" class=\"row_heading level0 row1\" >reading score</th>\n",
       "      <td id=\"T_75d38_row1_col0\" class=\"data row1 col0\" >0.817580</td>\n",
       "      <td id=\"T_75d38_row1_col1\" class=\"data row1 col1\" >1.000000</td>\n",
       "      <td id=\"T_75d38_row1_col2\" class=\"data row1 col2\" >0.954598</td>\n",
       "    </tr>\n",
       "    <tr>\n",
       "      <th id=\"T_75d38_level0_row2\" class=\"row_heading level0 row2\" >writing score</th>\n",
       "      <td id=\"T_75d38_row2_col0\" class=\"data row2 col0\" >0.802642</td>\n",
       "      <td id=\"T_75d38_row2_col1\" class=\"data row2 col1\" >0.954598</td>\n",
       "      <td id=\"T_75d38_row2_col2\" class=\"data row2 col2\" >1.000000</td>\n",
       "    </tr>\n",
       "  </tbody>\n",
       "</table>\n"
      ],
      "text/plain": [
       "<pandas.io.formats.style.Styler at 0x7f88a8852210>"
      ]
     },
     "execution_count": 10,
     "metadata": {},
     "output_type": "execute_result"
    }
   ],
   "source": [
    "df.corr().style.background_gradient(cmap=\"Blues\")"
   ]
  },
  {
   "cell_type": "markdown",
   "id": "c7f13687",
   "metadata": {
    "papermill": {
     "duration": 0.02534,
     "end_time": "2022-05-17T23:08:13.350462",
     "exception": false,
     "start_time": "2022-05-17T23:08:13.325122",
     "status": "completed"
    },
    "tags": []
   },
   "source": [
    "We can see that there is a good positive correlation among the variables."
   ]
  },
  {
   "cell_type": "markdown",
   "id": "314f71f8",
   "metadata": {
    "papermill": {
     "duration": 0.025543,
     "end_time": "2022-05-17T23:08:13.401642",
     "exception": false,
     "start_time": "2022-05-17T23:08:13.376099",
     "status": "completed"
    },
    "tags": []
   },
   "source": [
    "# How's the proportion between men and women?"
   ]
  },
  {
   "cell_type": "code",
   "execution_count": 11,
   "id": "8a2eadbd",
   "metadata": {
    "execution": {
     "iopub.execute_input": "2022-05-17T23:08:13.454905Z",
     "iopub.status.busy": "2022-05-17T23:08:13.454360Z",
     "iopub.status.idle": "2022-05-17T23:08:13.461472Z",
     "shell.execute_reply": "2022-05-17T23:08:13.460744Z"
    },
    "papermill": {
     "duration": 0.035753,
     "end_time": "2022-05-17T23:08:13.463302",
     "exception": false,
     "start_time": "2022-05-17T23:08:13.427549",
     "status": "completed"
    },
    "tags": []
   },
   "outputs": [
    {
     "data": {
      "text/plain": [
       "female    0.518\n",
       "male      0.482\n",
       "Name: gender, dtype: float64"
      ]
     },
     "execution_count": 11,
     "metadata": {},
     "output_type": "execute_result"
    }
   ],
   "source": [
    "df['gender'].value_counts('gender')"
   ]
  },
  {
   "cell_type": "code",
   "execution_count": 12,
   "id": "d4465403",
   "metadata": {
    "execution": {
     "iopub.execute_input": "2022-05-17T23:08:13.516767Z",
     "iopub.status.busy": "2022-05-17T23:08:13.516454Z",
     "iopub.status.idle": "2022-05-17T23:08:13.525357Z",
     "shell.execute_reply": "2022-05-17T23:08:13.524753Z"
    },
    "papermill": {
     "duration": 0.03819,
     "end_time": "2022-05-17T23:08:13.527694",
     "exception": false,
     "start_time": "2022-05-17T23:08:13.489504",
     "status": "completed"
    },
    "tags": []
   },
   "outputs": [
    {
     "name": "stdout",
     "output_type": "stream",
     "text": [
      "{'female': 518, 'male': 482}\n"
     ]
    }
   ],
   "source": [
    "# Inserting the values above in a python dictionary.\n",
    "proportion = {}\n",
    "\n",
    "proportion['female'] = df[df['gender']=='female']['gender'].count()\n",
    "proportion['male'] = df[df['gender']=='male']['gender'].count()\n",
    "\n",
    "print(proportion)\n",
    "\n",
    "#df['gender'].plot(kind='bar', stacked=True)\n",
    "\n"
   ]
  },
  {
   "cell_type": "code",
   "execution_count": 13,
   "id": "06d09f1f",
   "metadata": {
    "execution": {
     "iopub.execute_input": "2022-05-17T23:08:13.583105Z",
     "iopub.status.busy": "2022-05-17T23:08:13.582350Z",
     "iopub.status.idle": "2022-05-17T23:08:13.676352Z",
     "shell.execute_reply": "2022-05-17T23:08:13.675388Z"
    },
    "papermill": {
     "duration": 0.124309,
     "end_time": "2022-05-17T23:08:13.679447",
     "exception": false,
     "start_time": "2022-05-17T23:08:13.555138",
     "status": "completed"
    },
    "tags": []
   },
   "outputs": [
    {
     "data": {
      "image/png": "[encoded data removed]",
      "text/plain": [
       "<Figure size 216x360 with 1 Axes>"
      ]
     },
     "metadata": {},
     "output_type": "display_data"
    }
   ],
   "source": [
    "# Data to plot\n",
    "labels = []\n",
    "sizes = []\n",
    "\n",
    "for x, y in proportion.items():\n",
    "    labels.append(x)\n",
    "    sizes.append(y)\n",
    "    \n",
    "labels = [x.upper() for x in labels]    \n",
    "colors_list = ['blue','cyan']    \n",
    "    \n",
    "# Plot\n",
    "plt.pie(sizes, labels=labels, colors=colors_list, autopct='%.1f%%')\n",
    "plt.title(\"Distribution of types\")\n",
    "\n",
    "\n",
    "plt.show()"
   ]
  },
  {
   "cell_type": "markdown",
   "id": "eaa1343e",
   "metadata": {
    "papermill": {
     "duration": 0.044229,
     "end_time": "2022-05-17T23:08:13.773498",
     "exception": false,
     "start_time": "2022-05-17T23:08:13.729269",
     "status": "completed"
    },
    "tags": []
   },
   "source": [
    "One can see that the proportion is very equal, almost 50/50."
   ]
  },
  {
   "cell_type": "markdown",
   "id": "c8782980",
   "metadata": {
    "papermill": {
     "duration": 0.027455,
     "end_time": "2022-05-17T23:08:13.828124",
     "exception": false,
     "start_time": "2022-05-17T23:08:13.800669",
     "status": "completed"
    },
    "tags": []
   },
   "source": [
    "# How's the proportion of parental level of education?"
   ]
  },
  {
   "cell_type": "code",
   "execution_count": 14,
   "id": "9e570f83",
   "metadata": {
    "execution": {
     "iopub.execute_input": "2022-05-17T23:08:13.888516Z",
     "iopub.status.busy": "2022-05-17T23:08:13.887797Z",
     "iopub.status.idle": "2022-05-17T23:08:13.895080Z",
     "shell.execute_reply": "2022-05-17T23:08:13.894548Z"
    },
    "papermill": {
     "duration": 0.040328,
     "end_time": "2022-05-17T23:08:13.896769",
     "exception": false,
     "start_time": "2022-05-17T23:08:13.856441",
     "status": "completed"
    },
    "tags": []
   },
   "outputs": [
    {
     "data": {
      "text/plain": [
       "some college          0.226\n",
       "associate's degree    0.222\n",
       "high school           0.196\n",
       "some high school      0.179\n",
       "bachelor's degree     0.118\n",
       "master's degree       0.059\n",
       "Name: parental level of education, dtype: float64"
      ]
     },
     "execution_count": 14,
     "metadata": {},
     "output_type": "execute_result"
    }
   ],
   "source": [
    "df['parental level of education'].value_counts('parental level of education')"
   ]
  }
 ],
 "metadata": {
  "kernelspec": {
   "display_name": "Python 3",
   "language": "python",
   "name": "python3"
  },
  "language_info": {
   "codemirror_mode": {
    "name": "ipython",
    "version": 3
   },
   "file_extension": ".py",
   "mimetype": "text/x-python",
   "name": "python",
   "nbconvert_exporter": "python",
   "pygments_lexer": "ipython3",
   "version": "3.7.12"
  },
  "papermill": {
   "default_parameters": {},
   "duration": 13.562968,
   "end_time": "2022-05-17T23:08:14.647220",
   "environment_variables": {},
   "exception": null,
   "input_path": "__notebook__.ipynb",
   "output_path": "__notebook__.ipynb",
   "parameters": {},
   "start_time": "2022-05-17T23:08:01.084252",
   "version": "2.3.4"
  }
 },
 "nbformat": 4,
 "nbformat_minor": 5
}
